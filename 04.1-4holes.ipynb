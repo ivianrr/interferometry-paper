{
 "cells": [
  {
   "cell_type": "markdown",
   "metadata": {},
   "source": [
    "Figura teorica de la imagen de Betelgeuse con 4 aperturas"
   ]
  },
  {
   "cell_type": "code",
   "execution_count": 1,
   "metadata": {},
   "outputs": [
    {
     "name": "stderr",
     "output_type": "stream",
     "text": [
      "C:\\Users\\ivian\\AppData\\Local\\Temp\\ipykernel_13100\\3096429382.py:8: DeprecationWarning: Importing display from IPython.core.display is deprecated since IPython 7.14, please import from IPython display\n",
      "  from IPython.core.display import display, HTML\n"
     ]
    }
   ],
   "source": [
    "import pandas as pd\n",
    "import numpy as np\n",
    "import matplotlib.pyplot as plt\n",
    "import glob\n",
    "from scipy.special import jv\n",
    "import pickle\n",
    "from parametros import xlimdict, xlimdef\n",
    "\n",
    "plt.rcParams['figure.figsize'] = (5, 4)  # 8*4\n",
    "plt.rcParams['figure.dpi'] = 100"
   ]
  },
  {
   "cell_type": "code",
   "execution_count": 2,
   "metadata": {},
   "outputs": [],
   "source": [
    "with open('intermedio/valoresr0.pkl', 'rb') as f:\n",
    "    r0dict = pickle.load(f)"
   ]
  },
  {
   "cell_type": "code",
   "execution_count": 3,
   "metadata": {},
   "outputs": [
    {
     "name": "stdout",
     "output_type": "stream",
     "text": [
      "0.3629309047496448\n"
     ]
    }
   ],
   "source": [
    "pi = np.pi\n",
    "px = 5e-6  # 4.65e-6\n",
    "N = 10000\n",
    "a0 = 0.00003\n",
    "gamma = 1\n",
    "f = 2.8\n",
    "r0=r0dict[8] #Procedente del ajuste de la misma estrella el mismo dia a varias lineas base\n",
    "print(r0)\n",
    "\n",
    "paths = []\n",
    "names = []\n",
    "\n",
    "for name in glob.glob('datos/cortes/*/*.csv'):\n",
    "    paths.append(name)\n",
    "    names.append(name.split('\\\\')[-1])\n",
    "    \n",
    "files=glob.glob('datos/cortes/*/*.csv')\n",
    "\n",
    "ids = [int(n.split('-')[0]) for n in names]"
   ]
  },
  {
   "cell_type": "code",
   "execution_count": 4,
   "metadata": {},
   "outputs": [],
   "source": [
    "def calculate_I(x_rad,B,D,lamb,r0):\n",
    "    paper_V=np.exp(-3.44*(B/r0)**(5/3))\n",
    "    den = np.pi*x_rad*D/lamb\n",
    "    paper_I=(jv(1,den)/den)**2*(1+paper_V*np.cos(2*pi/lamb*B*x_rad))\n",
    "    return paper_I/paper_I.max()"
   ]
  },
  {
   "cell_type": "code",
   "execution_count": 5,
   "metadata": {},
   "outputs": [
    {
     "data": {
      "text/html": [
       "<div>\n",
       "<style scoped>\n",
       "    .dataframe tbody tr th:only-of-type {\n",
       "        vertical-align: middle;\n",
       "    }\n",
       "\n",
       "    .dataframe tbody tr th {\n",
       "        vertical-align: top;\n",
       "    }\n",
       "\n",
       "    .dataframe thead th {\n",
       "        text-align: right;\n",
       "    }\n",
       "</style>\n",
       "<table border=\"1\" class=\"dataframe\">\n",
       "  <thead>\n",
       "    <tr style=\"text-align: right;\">\n",
       "      <th></th>\n",
       "      <th>Objeto</th>\n",
       "      <th>Filtro</th>\n",
       "      <th>Disco</th>\n",
       "      <th>D (mm)</th>\n",
       "      <th>L (mm)</th>\n",
       "      <th>L1 (mm)</th>\n",
       "      <th>L2 (mm)</th>\n",
       "      <th>Notas</th>\n",
       "      <th>PATH</th>\n",
       "      <th>Imagen</th>\n",
       "      <th>...</th>\n",
       "      <th>DATE</th>\n",
       "      <th>DAY</th>\n",
       "      <th>HOUR</th>\n",
       "      <th>V_media_antigua</th>\n",
       "      <th>S_antigua</th>\n",
       "      <th>S_tip_antigua</th>\n",
       "      <th>V_media</th>\n",
       "      <th>S</th>\n",
       "      <th>S_tip</th>\n",
       "      <th>E_acc</th>\n",
       "    </tr>\n",
       "  </thead>\n",
       "  <tbody>\n",
       "    <tr>\n",
       "      <th>9.0</th>\n",
       "      <td>Betelgeuse</td>\n",
       "      <td>Halfa-35 nm</td>\n",
       "      <td>B/L+C</td>\n",
       "      <td>30.0</td>\n",
       "      <td>NaN</td>\n",
       "      <td>133.0</td>\n",
       "      <td>238.0</td>\n",
       "      <td>4X</td>\n",
       "      <td>datos/imagenes\\Beltegeuse\\9Betelgeuse0014 Bx3 ...</td>\n",
       "      <td>9</td>\n",
       "      <td>...</td>\n",
       "      <td>17-03-15</td>\n",
       "      <td>15</td>\n",
       "      <td>21:51:31</td>\n",
       "      <td>0.483885</td>\n",
       "      <td>0.015082</td>\n",
       "      <td>0.008708</td>\n",
       "      <td>0.483885</td>\n",
       "      <td>0.015082</td>\n",
       "      <td>0.008708</td>\n",
       "      <td>0.086422</td>\n",
       "    </tr>\n",
       "  </tbody>\n",
       "</table>\n",
       "<p>1 rows × 26 columns</p>\n",
       "</div>"
      ],
      "text/plain": [
       "         Objeto       Filtro  Disco  D (mm)  L (mm)  L1 (mm)  L2 (mm) Notas  \\\n",
       "9.0  Betelgeuse  Halfa-35 nm  B/L+C    30.0     NaN    133.0    238.0    4X   \n",
       "\n",
       "                                                  PATH  Imagen  ...      DATE  \\\n",
       "9.0  datos/imagenes\\Beltegeuse\\9Betelgeuse0014 Bx3 ...       9  ...  17-03-15   \n",
       "\n",
       "     DAY      HOUR  V_media_antigua S_antigua S_tip_antigua   V_media  \\\n",
       "9.0   15  21:51:31         0.483885  0.015082      0.008708  0.483885   \n",
       "\n",
       "            S     S_tip     E_acc  \n",
       "9.0  0.015082  0.008708  0.086422  \n",
       "\n",
       "[1 rows x 26 columns]"
      ]
     },
     "execution_count": 5,
     "metadata": {},
     "output_type": "execute_result"
    }
   ],
   "source": [
    "df=pd.read_hdf('intermedio/tabla.h5', 'df')\n",
    "df=df.loc[df[\"Imagen\"]==9]\n",
    "df"
   ]
  },
  {
   "cell_type": "code",
   "execution_count": 6,
   "metadata": {},
   "outputs": [],
   "source": [
    "lamb = df['$\\lambda$'].values[0]*10**-9\n",
    "D = df['D (mm)'].values[0]*0.001\n",
    "b1=df[\"L1 (mm)\"].values[0]/1000\n",
    "b2=df[\"L2 (mm)\"].values[0]/1000\n",
    "\n",
    "\n",
    "idn = df['Imagen'].values[0]\n",
    "csvpath = [file for file in files if file.find(\n",
    "    '\\\\'+str(idn)+'-') > 0][0]\n",
    "cut = pd.read_csv(csvpath)\n",
    "nm = np.max(cut['Distance_(pixels)'])\n",
    "nm = nm/2\n",
    "m = np.linspace(-nm, nm, N)\n",
    "alpha = m*px/f\n",
    "alpha_as = alpha/(pi/180/3600)  # *3 cambiado en v3, mejor en cortes\n",
    "x_rad=alpha_as*(pi/180/3600)\n"
   ]
  },
  {
   "cell_type": "code",
   "execution_count": 7,
   "metadata": {},
   "outputs": [
    {
     "name": "stdout",
     "output_type": "stream",
     "text": [
      "b1=0.133\n",
      "b2=0.238\n",
      "r0=0.363\n"
     ]
    }
   ],
   "source": [
    "print(f\"{b1=}\\n{b2=}\\n{r0=:0.3F}\")"
   ]
  },
  {
   "cell_type": "code",
   "execution_count": 8,
   "metadata": {},
   "outputs": [
    {
     "name": "stdout",
     "output_type": "stream",
     "text": [
      "r0=0.36\n",
      "V1=0.870235925323547\n",
      "V2=0.320051900636453\n",
      "V3=0.5197822352365956\n",
      "V4=0.1780125976921751\n",
      "\n"
     ]
    }
   ],
   "source": [
    "r0=0.36#0.478\n",
    "print(f\"{r0=}\")\n",
    "V1=np.exp(-3.44*((b2-b1)/r0/2)**(5/3))\n",
    "V2=np.exp(-3.44*((b2+b1)/r0/2)**(5/3))\n",
    "V3=np.exp(-3.44*((b1)/r0)**(5/3))\n",
    "V4=np.exp(-3.44*((b2)/r0)**(5/3))\n",
    "print(f\"{V1=}\\n{V2=}\\n{V3=}\\n{V4=}\\n\")"
   ]
  },
  {
   "cell_type": "code",
   "execution_count": 9,
   "metadata": {},
   "outputs": [],
   "source": [
    "# V1=0.91\n",
    "# V2=0.49\n",
    "# V3=0.34\n",
    "# V4=0.66"
   ]
  },
  {
   "cell_type": "code",
   "execution_count": 10,
   "metadata": {},
   "outputs": [],
   "source": [
    "den = np.pi*x_rad*D/lamb\n",
    "apertura=(jv(1,den)/den)**2\n",
    "interferencia=(4\n",
    "+4*(V1)*np.cos(pi/lamb*(b2-b1)*x_rad)\n",
    "+4*(V2)*np.cos(pi/lamb*(b2+b1)*x_rad)\n",
    "+2*(V3)*np.cos(2*pi/lamb*(b1)*x_rad)\n",
    "+2*(V4)*np.cos(2*pi/lamb*(b2)*x_rad)\n",
    ")\n",
    "\n",
    "I_norm=apertura*interferencia\n",
    "I_norm= I_norm/I_norm.max()\n"
   ]
  },
  {
   "cell_type": "code",
   "execution_count": 14,
   "metadata": {},
   "outputs": [
    {
     "data": {
      "application/vnd.jupyter.widget-view+json": {
       "model_id": "9325fe4243114edf81c9b255118bac2d",
       "version_major": 2,
       "version_minor": 0
      },
      "image/png": "[encoded data removed]",
      "text/html": [
       "\n",
       "            <div style=\"display: inline-block;\">\n",
       "                <div class=\"jupyter-widgets widget-label\" style=\"text-align: center;\">\n",
       "                    Figure\n",
       "                </div>\n",
       "                <img src='data:image/png;base64,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' width=640.0/>\n",
       "            </div>\n",
       "        "
      ],
      "text/plain": [
       "Canvas(toolbar=Toolbar(toolitems=[('Home', 'Reset original view', 'home', 'home'), ('Back', 'Back to previous …"
      ]
     },
     "metadata": {},
     "output_type": "display_data"
    }
   ],
   "source": [
    "\n",
    "fig, ax = plt.subplots()\n",
    "plt.ticklabel_format(useMathText=True)\n",
    "x_rad=alpha_as*(pi/180/3600)\n",
    "limite_x=xlimdict.get(9,xlimdef) \n",
    "plt.xlim([-limite_x, limite_x])\n",
    "ax.set_xlabel('$\\\\alpha$ (rad)')\n",
    "ax.set_ylabel('I/I$_{MAX}$')  \n",
    "\n",
    "\n",
    "ax.plot(x_rad,I_norm,color=\"black\", linewidth=0.5)\n",
    "\n",
    "#plt.legend([f\"r$_0$ = {100*r0:.0f} cm\"])\n",
    "\n",
    "plt.savefig('productos/graficas intensidad teor/Betelgeuse/'+'9-intensidad' +'.pdf')\n",
    "#plt.close()"
   ]
  },
  {
   "cell_type": "code",
   "execution_count": null,
   "metadata": {},
   "outputs": [],
   "source": []
  },
  {
   "cell_type": "code",
   "execution_count": 12,
   "metadata": {},
   "outputs": [],
   "source": [
    "from ipywidgets import interact, interactive, fixed, interact_manual\n",
    "import ipywidgets as widgets\n",
    "%matplotlib widget\n",
    "\n",
    "def plotear(V1,V2,V3,V4):\n",
    "    #plt.close()\n",
    "    x_rad=alpha_as*(pi/180/3600)\n",
    "    den = np.pi*x_rad*D/lamb\n",
    "    apertura=(jv(1,den)/den)**2\n",
    "    interferencia=(4\n",
    "    +4*(V1)*np.cos(pi/lamb*(b2-b1)*x_rad)\n",
    "    +4*(V2)*np.cos(pi/lamb*(b2+b1)*x_rad)\n",
    "    +2*(V3)*np.cos(2*pi/lamb*(b1)*x_rad)\n",
    "    +2*(V4)*np.cos(2*pi/lamb*(b2)*x_rad)\n",
    "    )\n",
    "\n",
    "    I_norm=apertura*interferencia\n",
    "    I_norm= I_norm/I_norm.max()\n",
    "\n",
    "    fig, ax = plt.subplots()\n",
    "    plt.ticklabel_format(useMathText=True)\n",
    "    x_rad=alpha_as*(pi/180/3600)\n",
    "    limite_x=xlimdict.get(9,xlimdef) \n",
    "    plt.xlim([-limite_x, limite_x])\n",
    "    ax.set_xlabel('$\\\\alpha$ (rad)')\n",
    "    ax.set_ylabel('I/I$_{MAX}$')  \n",
    "\n",
    "\n",
    "    ax.plot(x_rad,I_norm,color=\"black\", linewidth=0.5)\n",
    "    return plt.show()"
   ]
  },
  {
   "cell_type": "code",
   "execution_count": 13,
   "metadata": {},
   "outputs": [
    {
     "data": {
      "application/vnd.jupyter.widget-view+json": {
       "model_id": "425a93fdf2a84ceb8302d0b47a501923",
       "version_major": 2,
       "version_minor": 0
      },
      "text/plain": [
       "interactive(children=(FloatSlider(value=1.0, description='V1', max=1.0, min=0.001, step=0.01), FloatSlider(val…"
      ]
     },
     "metadata": {},
     "output_type": "display_data"
    }
   ],
   "source": [
    "%matplotlib widget\n",
    "\n",
    "interact(plotear, V1 = widgets.FloatSlider(value=1,\n",
    "                                               min=0.001,\n",
    "                                               max=1,\n",
    "                                               step=0.01), \n",
    "                  V2 = widgets.FloatSlider(value=1,\n",
    "                                               min=0.001,\n",
    "                                               max=1,\n",
    "                                               step=0.01), \n",
    "                  V3 = widgets.FloatSlider(value=1,\n",
    "                                               min=0.001,\n",
    "                                               max=1,\n",
    "                                               step=0.01), \n",
    "                  V4 = widgets.FloatSlider(value=1,\n",
    "                                               min=0.001,\n",
    "                                               max=1,\n",
    "                                               step=0.01));"
   ]
  },
  {
   "cell_type": "code",
   "execution_count": null,
   "metadata": {},
   "outputs": [],
   "source": []
  }
 ],
 "metadata": {
  "interpreter": {
   "hash": "70e0e9be64ad07483f9da567ffd7d42f53253c52f8983f63b3d8272e76f322df"
  },
  "kernelspec": {
   "display_name": "Python 3.9.12 ('jupy')",
   "language": "python",
   "name": "python3"
  },
  "language_info": {
   "codemirror_mode": {
    "name": "ipython",
    "version": 3
   },
   "file_extension": ".py",
   "mimetype": "text/x-python",
   "name": "python",
   "nbconvert_exporter": "python",
   "pygments_lexer": "ipython3",
   "version": "3.9.12"
  },
  "orig_nbformat": 4
 },
 "nbformat": 4,
 "nbformat_minor": 2
}
