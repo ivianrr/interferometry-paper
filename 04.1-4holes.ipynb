{
 "cells": [
  {
   "cell_type": "markdown",
   "metadata": {},
   "source": [
    "Figura teorica de la imagen de Betelgeuse con 4 aperturas"
   ]
  },
  {
   "cell_type": "code",
   "execution_count": 14,
   "metadata": {},
   "outputs": [],
   "source": [
    "import pandas as pd\n",
    "import numpy as np\n",
    "import matplotlib.pyplot as plt\n",
    "import glob\n",
    "from scipy.special import jv\n",
    "import pickle\n",
    "from parametros import xlimdict, xlimdef\n",
    "\n",
    "plt.rcParams['figure.figsize'] = (5, 4)  # 8*4\n",
    "plt.rcParams['figure.dpi'] = 100\n",
    "\n",
    "output_format=\".png\""
   ]
  },
  {
   "cell_type": "code",
   "execution_count": 15,
   "metadata": {},
   "outputs": [],
   "source": [
    "with open('intermedio/valoresr0.pkl', 'rb') as f:\n",
    "    r0dict = pickle.load(f)"
   ]
  },
  {
   "cell_type": "code",
   "execution_count": 16,
   "metadata": {},
   "outputs": [
    {
     "name": "stdout",
     "output_type": "stream",
     "text": [
      "0.3629309047496448\n"
     ]
    }
   ],
   "source": [
    "pi = np.pi\n",
    "px = 5e-6  # 4.65e-6\n",
    "N = 10000\n",
    "a0 = 0.00003\n",
    "gamma = 1\n",
    "f = 2.8\n",
    "r0=r0dict[8] #Procedente del ajuste de la misma estrella el mismo dia a varias lineas base\n",
    "print(r0)\n",
    "\n",
    "paths = []\n",
    "names = []\n",
    "\n",
    "for name in glob.glob('datos/cortes/*/*.csv'):\n",
    "    paths.append(name)\n",
    "    names.append(name.split('\\\\')[-1])\n",
    "    \n",
    "files=glob.glob('datos/cortes/*/*.csv')\n",
    "\n",
    "ids = [int(n.split('-')[0]) for n in names]"
   ]
  },
  {
   "cell_type": "code",
   "execution_count": 17,
   "metadata": {},
   "outputs": [],
   "source": [
    "def calculate_I(x_rad,B,D,lamb,r0):\n",
    "    paper_V=np.exp(-3.44*(B/r0)**(5/3))\n",
    "    den = np.pi*x_rad*D/lamb\n",
    "    paper_I=(jv(1,den)/den)**2*(1+paper_V*np.cos(2*pi/lamb*B*x_rad))\n",
    "    return paper_I/paper_I.max()"
   ]
  },
  {
   "cell_type": "code",
   "execution_count": 18,
   "metadata": {},
   "outputs": [
    {
     "data": {
      "text/html": [
       "<div>\n",
       "<style scoped>\n",
       "    .dataframe tbody tr th:only-of-type {\n",
       "        vertical-align: middle;\n",
       "    }\n",
       "\n",
       "    .dataframe tbody tr th {\n",
       "        vertical-align: top;\n",
       "    }\n",
       "\n",
       "    .dataframe thead th {\n",
       "        text-align: right;\n",
       "    }\n",
       "</style>\n",
       "<table border=\"1\" class=\"dataframe\">\n",
       "  <thead>\n",
       "    <tr style=\"text-align: right;\">\n",
       "      <th></th>\n",
       "      <th>Objeto</th>\n",
       "      <th>Filtro</th>\n",
       "      <th>Disco</th>\n",
       "      <th>D (mm)</th>\n",
       "      <th>L (mm)</th>\n",
       "      <th>L1 (mm)</th>\n",
       "      <th>L2 (mm)</th>\n",
       "      <th>Notas</th>\n",
       "      <th>PATH</th>\n",
       "      <th>Imagen</th>\n",
       "      <th>...</th>\n",
       "      <th>DATE</th>\n",
       "      <th>DAY</th>\n",
       "      <th>HOUR</th>\n",
       "      <th>V_media_antigua</th>\n",
       "      <th>S_antigua</th>\n",
       "      <th>S_tip_antigua</th>\n",
       "      <th>V_media</th>\n",
       "      <th>S</th>\n",
       "      <th>S_tip</th>\n",
       "      <th>E_acc</th>\n",
       "    </tr>\n",
       "    <tr>\n",
       "      <th>Imagen</th>\n",
       "      <th></th>\n",
       "      <th></th>\n",
       "      <th></th>\n",
       "      <th></th>\n",
       "      <th></th>\n",
       "      <th></th>\n",
       "      <th></th>\n",
       "      <th></th>\n",
       "      <th></th>\n",
       "      <th></th>\n",
       "      <th></th>\n",
       "      <th></th>\n",
       "      <th></th>\n",
       "      <th></th>\n",
       "      <th></th>\n",
       "      <th></th>\n",
       "      <th></th>\n",
       "      <th></th>\n",
       "      <th></th>\n",
       "      <th></th>\n",
       "      <th></th>\n",
       "    </tr>\n",
       "  </thead>\n",
       "  <tbody>\n",
       "    <tr>\n",
       "      <th>9</th>\n",
       "      <td>Betelgeuse</td>\n",
       "      <td>Halfa-35 nm</td>\n",
       "      <td>B/L+C</td>\n",
       "      <td>30.0</td>\n",
       "      <td>NaN</td>\n",
       "      <td>133.0</td>\n",
       "      <td>238.0</td>\n",
       "      <td>4X</td>\n",
       "      <td>datos/imagenes\\Beltegeuse\\9Betelgeuse0014 Bx3 ...</td>\n",
       "      <td>9</td>\n",
       "      <td>...</td>\n",
       "      <td>17-03-15</td>\n",
       "      <td>15</td>\n",
       "      <td>21:51:31</td>\n",
       "      <td>0.483885</td>\n",
       "      <td>0.015082</td>\n",
       "      <td>0.008708</td>\n",
       "      <td>0.483885</td>\n",
       "      <td>0.015082</td>\n",
       "      <td>0.008708</td>\n",
       "      <td>0.086422</td>\n",
       "    </tr>\n",
       "  </tbody>\n",
       "</table>\n",
       "<p>1 rows × 26 columns</p>\n",
       "</div>"
      ],
      "text/plain": [
       "            Objeto       Filtro  Disco  D (mm)  L (mm)  L1 (mm)  L2 (mm)  \\\n",
       "Imagen                                                                     \n",
       "9       Betelgeuse  Halfa-35 nm  B/L+C    30.0     NaN    133.0    238.0   \n",
       "\n",
       "       Notas                                               PATH  Imagen  ...  \\\n",
       "Imagen                                                                   ...   \n",
       "9         4X  datos/imagenes\\Beltegeuse\\9Betelgeuse0014 Bx3 ...       9  ...   \n",
       "\n",
       "            DATE  DAY      HOUR  V_media_antigua S_antigua S_tip_antigua  \\\n",
       "Imagen                                                                     \n",
       "9       17-03-15   15  21:51:31         0.483885  0.015082      0.008708   \n",
       "\n",
       "         V_media         S     S_tip     E_acc  \n",
       "Imagen                                          \n",
       "9       0.483885  0.015082  0.008708  0.086422  \n",
       "\n",
       "[1 rows x 26 columns]"
      ]
     },
     "execution_count": 18,
     "metadata": {},
     "output_type": "execute_result"
    }
   ],
   "source": [
    "df=pd.read_hdf('intermedio/tabla.h5', 'df')\n",
    "df=df.loc[df[\"Imagen\"]==9]\n",
    "df"
   ]
  },
  {
   "cell_type": "code",
   "execution_count": 19,
   "metadata": {},
   "outputs": [],
   "source": [
    "lamb = df['$\\lambda$'].values[0]*10**-9\n",
    "D = df['D (mm)'].values[0]*0.001\n",
    "b1=df[\"L1 (mm)\"].values[0]/1000\n",
    "b2=df[\"L2 (mm)\"].values[0]/1000\n",
    "\n",
    "\n",
    "idn = df['Imagen'].values[0]\n",
    "csvpath = [file for file in files if file.find(\n",
    "    '\\\\'+str(idn)+'-') > 0][0]\n",
    "cut = pd.read_csv(csvpath)\n",
    "nm = np.max(cut['Distance_(pixels)'])\n",
    "nm = nm/2\n",
    "m = np.linspace(-nm, nm, N)\n",
    "alpha = m*px/f\n",
    "alpha_as = alpha/(pi/180/3600)  # *3 cambiado en v3, mejor en cortes\n",
    "x_rad=alpha_as*(pi/180/3600)\n"
   ]
  },
  {
   "cell_type": "code",
   "execution_count": 20,
   "metadata": {},
   "outputs": [
    {
     "name": "stdout",
     "output_type": "stream",
     "text": [
      "b1=0.133\n",
      "b2=0.238\n",
      "r0=0.363\n"
     ]
    }
   ],
   "source": [
    "print(f\"{b1=}\\n{b2=}\\n{r0=:0.3F}\")"
   ]
  },
  {
   "cell_type": "code",
   "execution_count": 21,
   "metadata": {},
   "outputs": [
    {
     "name": "stdout",
     "output_type": "stream",
     "text": [
      "r0=0.36\n",
      "V1=0.870235925323547\n",
      "V2=0.320051900636453\n",
      "V3=0.5197822352365956\n",
      "V4=0.1780125976921751\n",
      "\n"
     ]
    }
   ],
   "source": [
    "r0=0.36#0.478\n",
    "print(f\"{r0=}\")\n",
    "V1=np.exp(-3.44*((b2-b1)/r0/2)**(5/3))\n",
    "V2=np.exp(-3.44*((b2+b1)/r0/2)**(5/3))\n",
    "V3=np.exp(-3.44*((b1)/r0)**(5/3))\n",
    "V4=np.exp(-3.44*((b2)/r0)**(5/3))\n",
    "print(f\"{V1=}\\n{V2=}\\n{V3=}\\n{V4=}\\n\")"
   ]
  },
  {
   "cell_type": "code",
   "execution_count": 22,
   "metadata": {},
   "outputs": [],
   "source": [
    "# V1=0.91\n",
    "# V2=0.49\n",
    "# V3=0.34\n",
    "# V4=0.66"
   ]
  },
  {
   "cell_type": "code",
   "execution_count": 23,
   "metadata": {},
   "outputs": [],
   "source": [
    "den = np.pi*x_rad*D/lamb\n",
    "apertura=(jv(1,den)/den)**2\n",
    "interferencia=(4\n",
    "+4*(V1)*np.cos(pi/lamb*(b2-b1)*x_rad)\n",
    "+4*(V2)*np.cos(pi/lamb*(b2+b1)*x_rad)\n",
    "+2*(V3)*np.cos(2*pi/lamb*(b1)*x_rad)\n",
    "+2*(V4)*np.cos(2*pi/lamb*(b2)*x_rad)\n",
    ")\n",
    "\n",
    "I_norm=apertura*interferencia\n",
    "I_norm= I_norm/I_norm.max()\n"
   ]
  },
  {
   "cell_type": "code",
   "execution_count": 24,
   "metadata": {},
   "outputs": [
    {
     "data": {
      "application/vnd.jupyter.widget-view+json": {
       "model_id": "36a96ba219c748de807c9085f8f1d49d",
       "version_major": 2,
       "version_minor": 0
      },
      "image/png": "[encoded data removed]",
      "text/html": [
       "\n",
       "            <div style=\"display: inline-block;\">\n",
       "                <div class=\"jupyter-widgets widget-label\" style=\"text-align: center;\">\n",
       "                    Figure\n",
       "                </div>\n",
       "                <img src='data:image/png;base64,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' width=500.0/>\n",
       "            </div>\n",
       "        "
      ],
      "text/plain": [
       "Canvas(toolbar=Toolbar(toolitems=[('Home', 'Reset original view', 'home', 'home'), ('Back', 'Back to previous …"
      ]
     },
     "metadata": {},
     "output_type": "display_data"
    }
   ],
   "source": [
    "\n",
    "fig, ax = plt.subplots()\n",
    "plt.ticklabel_format(useMathText=True)\n",
    "x_rad=alpha_as*(pi/180/3600)\n",
    "limite_x=xlimdict.get(9,xlimdef) \n",
    "plt.xlim([-limite_x, limite_x])\n",
    "ax.set_xlabel('$\\\\alpha$ (rad)')\n",
    "ax.set_ylabel('I/I$_{MAX}$')  \n",
    "\n",
    "\n",
    "ax.plot(x_rad,I_norm,color=\"black\", linewidth=0.5)\n",
    "\n",
    "#plt.legend([f\"r$_0$ = {100*r0:.0f} cm\"])\n",
    "\n",
    "plt.savefig('productos/graficas intensidad teor/Betelgeuse/'+'9-intensidad' +output_format)\n",
    "#plt.close()"
   ]
  },
  {
   "cell_type": "code",
   "execution_count": null,
   "metadata": {},
   "outputs": [],
   "source": []
  },
  {
   "cell_type": "code",
   "execution_count": 25,
   "metadata": {},
   "outputs": [],
   "source": [
    "from ipywidgets import interact\n",
    "import ipywidgets as widgets\n",
    "%matplotlib widget\n",
    "\n",
    "def plotear(V1,V2,V3,V4):\n",
    "    #plt.close()\n",
    "    x_rad=alpha_as*(pi/180/3600)\n",
    "    den = np.pi*x_rad*D/lamb\n",
    "    apertura=(jv(1,den)/den)**2\n",
    "    interferencia=(4\n",
    "    +4*(V1)*np.cos(pi/lamb*(b2-b1)*x_rad)\n",
    "    +4*(V2)*np.cos(pi/lamb*(b2+b1)*x_rad)\n",
    "    +2*(V3)*np.cos(2*pi/lamb*(b1)*x_rad)\n",
    "    +2*(V4)*np.cos(2*pi/lamb*(b2)*x_rad)\n",
    "    )\n",
    "\n",
    "    I_norm=apertura*interferencia\n",
    "    I_norm= I_norm/I_norm.max()\n",
    "\n",
    "    fig, ax = plt.subplots()\n",
    "    plt.ticklabel_format(useMathText=True)\n",
    "    x_rad=alpha_as*(pi/180/3600)\n",
    "    limite_x=xlimdict.get(9,xlimdef) \n",
    "    plt.xlim([-limite_x, limite_x])\n",
    "    ax.set_xlabel('$\\\\alpha$ (rad)')\n",
    "    ax.set_ylabel('I/I$_{MAX}$')  \n",
    "\n",
    "\n",
    "    ax.plot(x_rad,I_norm,color=\"black\", linewidth=0.5)\n",
    "    return plt.show()"
   ]
  },
  {
   "cell_type": "code",
   "execution_count": 26,
   "metadata": {},
   "outputs": [
    {
     "data": {
      "application/vnd.jupyter.widget-view+json": {
       "model_id": "b329861132df4a48b8bec647f4b1f18f",
       "version_major": 2,
       "version_minor": 0
      },
      "text/plain": [
       "interactive(children=(FloatSlider(value=1.0, description='V1', max=1.0, min=0.001, step=0.01), FloatSlider(val…"
      ]
     },
     "metadata": {},
     "output_type": "display_data"
    }
   ],
   "source": [
    "%matplotlib widget\n",
    "\n",
    "interact(plotear, V1 = widgets.FloatSlider(value=1,\n",
    "                                               min=0.001,\n",
    "                                               max=1,\n",
    "                                               step=0.01), \n",
    "                  V2 = widgets.FloatSlider(value=1,\n",
    "                                               min=0.001,\n",
    "                                               max=1,\n",
    "                                               step=0.01), \n",
    "                  V3 = widgets.FloatSlider(value=1,\n",
    "                                               min=0.001,\n",
    "                                               max=1,\n",
    "                                               step=0.01), \n",
    "                  V4 = widgets.FloatSlider(value=1,\n",
    "                                               min=0.001,\n",
    "                                               max=1,\n",
    "                                               step=0.01));"
   ]
  },
  {
   "cell_type": "code",
   "execution_count": null,
   "metadata": {},
   "outputs": [],
   "source": []
  }
 ],
 "metadata": {
  "interpreter": {
   "hash": "70e0e9be64ad07483f9da567ffd7d42f53253c52f8983f63b3d8272e76f322df"
  },
  "kernelspec": {
   "display_name": "Python 3.9.12 ('jupy')",
   "language": "python",
   "name": "python3"
  },
  "language_info": {
   "codemirror_mode": {
    "name": "ipython",
    "version": 3
   },
   "file_extension": ".py",
   "mimetype": "text/x-python",
   "name": "python",
   "nbconvert_exporter": "python",
   "pygments_lexer": "ipython3",
   "version": "3.9.12"
  },
  "orig_nbformat": 4
 },
 "nbformat": 4,
 "nbformat_minor": 2
}
