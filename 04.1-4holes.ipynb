{
 "cells": [
  {
   "cell_type": "markdown",
   "metadata": {},
   "source": [
    "Figura teorica de la imagen de Betelgeuse con 4 aperturas"
   ]
  },
  {
   "cell_type": "code",
   "execution_count": 14,
   "metadata": {},
   "outputs": [],
   "source": [
    "import pandas as pd\n",
    "import numpy as np\n",
    "import matplotlib.pyplot as plt\n",
    "import glob\n",
    "from scipy.special import jv\n",
    "import pickle\n",
    "from parametros import xlimdict, xlimdef\n",
    "\n",
    "plt.rcParams['figure.figsize'] = (5, 4)  # 8*4\n",
    "plt.rcParams['figure.dpi'] = 100\n",
    "\n",
    "output_format=\".pdf\""
   ]
  },
  {
   "cell_type": "code",
   "execution_count": 15,
   "metadata": {},
   "outputs": [],
   "source": [
    "with open('intermedio/valoresr0.pkl', 'rb') as f:\n",
    "    r0dict = pickle.load(f)"
   ]
  },
  {
   "cell_type": "code",
   "execution_count": 16,
   "metadata": {},
   "outputs": [
    {
     "name": "stdout",
     "output_type": "stream",
     "text": [
      "0.3629309047496448\n"
     ]
    }
   ],
   "source": [
    "pi = np.pi\n",
    "px = 5e-6  # 4.65e-6\n",
    "N = 10000\n",
    "a0 = 0.00003\n",
    "gamma = 1\n",
    "f = 2.8\n",
    "r0=r0dict[8] #Procedente del ajuste de la misma estrella el mismo dia a varias lineas base\n",
    "print(r0)\n",
    "\n",
    "paths = []\n",
    "names = []\n",
    "\n",
    "for name in glob.glob('datos/cortes/*/*.csv'):\n",
    "    paths.append(name)\n",
    "    names.append(name.split('\\\\')[-1])\n",
    "    \n",
    "files=glob.glob('datos/cortes/*/*.csv')\n",
    "\n",
    "ids = [int(n.split('-')[0]) for n in names]"
   ]
  },
  {
   "cell_type": "code",
   "execution_count": 17,
   "metadata": {},
   "outputs": [],
   "source": [
    "def calculate_I(x_rad,B,D,lamb,r0):\n",
    "    paper_V=np.exp(-3.44*(B/r0)**(5/3))\n",
    "    den = np.pi*x_rad*D/lamb\n",
    "    paper_I=(jv(1,den)/den)**2*(1+paper_V*np.cos(2*pi/lamb*B*x_rad))\n",
    "    return paper_I/paper_I.max()"
   ]
  },
  {
   "cell_type": "code",
   "execution_count": 18,
   "metadata": {},
   "outputs": [
    {
     "data": {
      "text/html": [
       "<div>\n",
       "<style scoped>\n",
       "    .dataframe tbody tr th:only-of-type {\n",
       "        vertical-align: middle;\n",
       "    }\n",
       "\n",
       "    .dataframe tbody tr th {\n",
       "        vertical-align: top;\n",
       "    }\n",
       "\n",
       "    .dataframe thead th {\n",
       "        text-align: right;\n",
       "    }\n",
       "</style>\n",
       "<table border=\"1\" class=\"dataframe\">\n",
       "  <thead>\n",
       "    <tr style=\"text-align: right;\">\n",
       "      <th></th>\n",
       "      <th>Objeto</th>\n",
       "      <th>Filtro</th>\n",
       "      <th>Disco</th>\n",
       "      <th>D (mm)</th>\n",
       "      <th>L (mm)</th>\n",
       "      <th>L1 (mm)</th>\n",
       "      <th>L2 (mm)</th>\n",
       "      <th>Notas</th>\n",
       "      <th>PATH</th>\n",
       "      <th>Imagen</th>\n",
       "      <th>...</th>\n",
       "      <th>DATE</th>\n",
       "      <th>DAY</th>\n",
       "      <th>HOUR</th>\n",
       "      <th>V_media_antigua</th>\n",
       "      <th>S_antigua</th>\n",
       "      <th>S_tip_antigua</th>\n",
       "      <th>V_media</th>\n",
       "      <th>S</th>\n",
       "      <th>S_tip</th>\n",
       "      <th>E_acc</th>\n",
       "    </tr>\n",
       "    <tr>\n",
       "      <th>Imagen</th>\n",
       "      <th></th>\n",
       "      <th></th>\n",
       "      <th></th>\n",
       "      <th></th>\n",
       "      <th></th>\n",
       "      <th></th>\n",
       "      <th></th>\n",
       "      <th></th>\n",
       "      <th></th>\n",
       "      <th></th>\n",
       "      <th></th>\n",
       "      <th></th>\n",
       "      <th></th>\n",
       "      <th></th>\n",
       "      <th></th>\n",
       "      <th></th>\n",
       "      <th></th>\n",
       "      <th></th>\n",
       "      <th></th>\n",
       "      <th></th>\n",
       "      <th></th>\n",
       "    </tr>\n",
       "  </thead>\n",
       "  <tbody>\n",
       "    <tr>\n",
       "      <th>9</th>\n",
       "      <td>Betelgeuse</td>\n",
       "      <td>Halfa-35 nm</td>\n",
       "      <td>B/L+C</td>\n",
       "      <td>30.0</td>\n",
       "      <td>NaN</td>\n",
       "      <td>133.0</td>\n",
       "      <td>238.0</td>\n",
       "      <td>4X</td>\n",
       "      <td>datos/imagenes\\Beltegeuse\\9Betelgeuse0014 Bx3 ...</td>\n",
       "      <td>9</td>\n",
       "      <td>...</td>\n",
       "      <td>17-03-15</td>\n",
       "      <td>15</td>\n",
       "      <td>21:51:31</td>\n",
       "      <td>0.483885</td>\n",
       "      <td>0.015082</td>\n",
       "      <td>0.008708</td>\n",
       "      <td>0.483885</td>\n",
       "      <td>0.015082</td>\n",
       "      <td>0.008708</td>\n",
       "      <td>0.086422</td>\n",
       "    </tr>\n",
       "  </tbody>\n",
       "</table>\n",
       "<p>1 rows × 26 columns</p>\n",
       "</div>"
      ],
      "text/plain": [
       "            Objeto       Filtro  Disco  D (mm)  L (mm)  L1 (mm)  L2 (mm)  \\\n",
       "Imagen                                                                     \n",
       "9       Betelgeuse  Halfa-35 nm  B/L+C    30.0     NaN    133.0    238.0   \n",
       "\n",
       "       Notas                                               PATH  Imagen  ...  \\\n",
       "Imagen                                                                   ...   \n",
       "9         4X  datos/imagenes\\Beltegeuse\\9Betelgeuse0014 Bx3 ...       9  ...   \n",
       "\n",
       "            DATE  DAY      HOUR  V_media_antigua S_antigua S_tip_antigua  \\\n",
       "Imagen                                                                     \n",
       "9       17-03-15   15  21:51:31         0.483885  0.015082      0.008708   \n",
       "\n",
       "         V_media         S     S_tip     E_acc  \n",
       "Imagen                                          \n",
       "9       0.483885  0.015082  0.008708  0.086422  \n",
       "\n",
       "[1 rows x 26 columns]"
      ]
     },
     "execution_count": 18,
     "metadata": {},
     "output_type": "execute_result"
    }
   ],
   "source": [
    "df=pd.read_hdf('intermedio/tabla.h5', 'df')\n",
    "df=df.loc[df[\"Imagen\"]==9]\n",
    "df"
   ]
  },
  {
   "cell_type": "code",
   "execution_count": 19,
   "metadata": {},
   "outputs": [],
   "source": [
    "lamb = df['$\\lambda$'].values[0]*10**-9\n",
    "D = df['D (mm)'].values[0]*0.001\n",
    "b1=df[\"L1 (mm)\"].values[0]/1000\n",
    "b2=df[\"L2 (mm)\"].values[0]/1000\n",
    "\n",
    "\n",
    "idn = df['Imagen'].values[0]\n",
    "csvpath = [file for file in files if file.find(\n",
    "    '\\\\'+str(idn)+'-') > 0][0]\n",
    "cut = pd.read_csv(csvpath)\n",
    "nm = np.max(cut['Distance_(pixels)'])\n",
    "nm = nm/2\n",
    "m = np.linspace(-nm, nm, N)\n",
    "alpha = m*px/f\n",
    "alpha_as = alpha/(pi/180/3600)  # *3 cambiado en v3, mejor en cortes\n",
    "x_rad=alpha_as*(pi/180/3600)\n"
   ]
  },
  {
   "cell_type": "code",
   "execution_count": 20,
   "metadata": {},
   "outputs": [
    {
     "name": "stdout",
     "output_type": "stream",
     "text": [
      "b1=0.133\n",
      "b2=0.238\n",
      "r0=0.363\n"
     ]
    }
   ],
   "source": [
    "print(f\"{b1=}\\n{b2=}\\n{r0=:0.3F}\")"
   ]
  },
  {
   "cell_type": "code",
   "execution_count": 21,
   "metadata": {},
   "outputs": [
    {
     "name": "stdout",
     "output_type": "stream",
     "text": [
      "r0=0.36\n",
      "V1=0.870235925323547\n",
      "V2=0.320051900636453\n",
      "V3=0.5197822352365956\n",
      "V4=0.1780125976921751\n",
      "\n"
     ]
    }
   ],
   "source": [
    "r0=0.36#0.478\n",
    "print(f\"{r0=}\")\n",
    "V1=np.exp(-3.44*((b2-b1)/r0/2)**(5/3))\n",
    "V2=np.exp(-3.44*((b2+b1)/r0/2)**(5/3))\n",
    "V3=np.exp(-3.44*((b1)/r0)**(5/3))\n",
    "V4=np.exp(-3.44*((b2)/r0)**(5/3))\n",
    "print(f\"{V1=}\\n{V2=}\\n{V3=}\\n{V4=}\\n\")"
   ]
  },
  {
   "cell_type": "code",
   "execution_count": 22,
   "metadata": {},
   "outputs": [],
   "source": [
    "# V1=0.91\n",
    "# V2=0.49\n",
    "# V3=0.34\n",
    "# V4=0.66"
   ]
  },
  {
   "cell_type": "code",
   "execution_count": 23,
   "metadata": {},
   "outputs": [],
   "source": [
    "den = np.pi*x_rad*D/lamb\n",
    "apertura=(jv(1,den)/den)**2\n",
    "interferencia=(4\n",
    "+4*(V1)*np.cos(pi/lamb*(b2-b1)*x_rad)\n",
    "+4*(V2)*np.cos(pi/lamb*(b2+b1)*x_rad)\n",
    "+2*(V3)*np.cos(2*pi/lamb*(b1)*x_rad)\n",
    "+2*(V4)*np.cos(2*pi/lamb*(b2)*x_rad)\n",
    ")\n",
    "\n",
    "I_norm=apertura*interferencia\n",
    "I_norm= I_norm/I_norm.max()\n"
   ]
  },
  {
   "cell_type": "code",
   "execution_count": 24,
   "metadata": {},
   "outputs": [
    {
     "data": {
      "application/vnd.jupyter.widget-view+json": {
       "model_id": "2b2a0e74d8a44d41aa4868665e072a50",
       "version_major": 2,
       "version_minor": 0
      },
      "image/png": "[encoded data removed]",
      "text/html": [
       "\n",
       "            <div style=\"display: inline-block;\">\n",
       "                <div class=\"jupyter-widgets widget-label\" style=\"text-align: center;\">\n",
       "                    Figure\n",
       "                </div>\n",
       "                <img src='data:image/png;base64,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' width=500.0/>\n",
       "            </div>\n",
       "        "
      ],
      "text/plain": [
       "Canvas(toolbar=Toolbar(toolitems=[('Home', 'Reset original view', 'home', 'home'), ('Back', 'Back to previous …"
      ]
     },
     "metadata": {},
     "output_type": "display_data"
    }
   ],
   "source": [
    "\n",
    "fig, ax = plt.subplots()\n",
    "plt.ticklabel_format(useMathText=True)\n",
    "x_rad=alpha_as*(pi/180/3600)\n",
    "limite_x=xlimdict.get(9,xlimdef) \n",
    "plt.xlim([-limite_x, limite_x])\n",
    "ax.set_xlabel('$\\\\alpha$ (rad)')\n",
    "ax.set_ylabel('I/I$_{MAX}$')  \n",
    "\n",
    "\n",
    "ax.plot(x_rad,I_norm,color=\"black\", linewidth=0.5,label=f\"r$_0$ = {100*r0:.0f} cm\")\n",
    "\n",
    "leg = ax.legend(handlelength=0, handletextpad=0, fancybox=True)\n",
    "for item in leg.legendHandles:\n",
    "    item.set_visible(False)\n",
    "#plt.legend([f\"r$_0$ = {100*r0:.0f} cm\"])\n",
    "\n",
    "plt.savefig('productos/graficas intensidad teor/Betelgeuse/'+'9-intensidad' +output_format)\n",
    "#plt.close()"
   ]
  },
  {
   "cell_type": "code",
   "execution_count": null,
   "metadata": {},
   "outputs": [],
   "source": []
  },
  {
   "cell_type": "code",
   "execution_count": 25,
   "metadata": {},
   "outputs": [],
   "source": [
    "from ipywidgets import interact\n",
    "import ipywidgets as widgets\n",
    "%matplotlib widget\n",
    "\n",
    "def plotear(V1,V2,V3,V4):\n",
    "    #plt.close()\n",
    "    x_rad=alpha_as*(pi/180/3600)\n",
    "    den = np.pi*x_rad*D/lamb\n",
    "    apertura=(jv(1,den)/den)**2\n",
    "    interferencia=(4\n",
    "    +4*(V1)*np.cos(pi/lamb*(b2-b1)*x_rad)\n",
    "    +4*(V2)*np.cos(pi/lamb*(b2+b1)*x_rad)\n",
    "    +2*(V3)*np.cos(2*pi/lamb*(b1)*x_rad)\n",
    "    +2*(V4)*np.cos(2*pi/lamb*(b2)*x_rad)\n",
    "    )\n",
    "\n",
    "    I_norm=apertura*interferencia\n",
    "    I_norm= I_norm/I_norm.max()\n",
    "\n",
    "    fig, ax = plt.subplots()\n",
    "    plt.ticklabel_format(useMathText=True)\n",
    "    x_rad=alpha_as*(pi/180/3600)\n",
    "    limite_x=xlimdict.get(9,xlimdef) \n",
    "    plt.xlim([-limite_x, limite_x])\n",
    "    ax.set_xlabel('$\\\\alpha$ (rad)')\n",
    "    ax.set_ylabel('I/I$_{MAX}$')  \n",
    "\n",
    "\n",
    "    ax.plot(x_rad,I_norm,color=\"black\", linewidth=0.5)\n",
    "    return plt.show()"
   ]
  },
  {
   "cell_type": "code",
   "execution_count": 26,
   "metadata": {},
   "outputs": [
    {
     "data": {
      "application/vnd.jupyter.widget-view+json": {
       "model_id": "effa2bb04ac740bbac94cb3208e6fd6d",
       "version_major": 2,
       "version_minor": 0
      },
      "text/plain": [
       "interactive(children=(FloatSlider(value=1.0, description='V1', max=1.0, min=0.001, step=0.01), FloatSlider(val…"
      ]
     },
     "metadata": {},
     "output_type": "display_data"
    }
   ],
   "source": [
    "%matplotlib widget\n",
    "\n",
    "interact(plotear, V1 = widgets.FloatSlider(value=1,\n",
    "                                               min=0.001,\n",
    "                                               max=1,\n",
    "                                               step=0.01), \n",
    "                  V2 = widgets.FloatSlider(value=1,\n",
    "                                               min=0.001,\n",
    "                                               max=1,\n",
    "                                               step=0.01), \n",
    "                  V3 = widgets.FloatSlider(value=1,\n",
    "                                               min=0.001,\n",
    "                                               max=1,\n",
    "                                               step=0.01), \n",
    "                  V4 = widgets.FloatSlider(value=1,\n",
    "                                               min=0.001,\n",
    "                                               max=1,\n",
    "                                               step=0.01));"
   ]
  },
  {
   "cell_type": "code",
   "execution_count": null,
   "metadata": {},
   "outputs": [],
   "source": []
  }
 ],
 "metadata": {
  "interpreter": {
   "hash": "7288f5eed9f0569b2edb372878a9e89d03676e3e8c663c8588401b9f637de2da"
  },
  "kernelspec": {
   "display_name": "Python 3.10.4 ('interf2')",
   "language": "python",
   "name": "python3"
  },
  "language_info": {
   "codemirror_mode": {
    "name": "ipython",
    "version": 3
   },
   "file_extension": ".py",
   "mimetype": "text/x-python",
   "name": "python",
   "nbconvert_exporter": "python",
   "pygments_lexer": "ipython3",
   "version": "3.10.4"
  },
  "orig_nbformat": 4
 },
 "nbformat": 4,
 "nbformat_minor": 2
}
