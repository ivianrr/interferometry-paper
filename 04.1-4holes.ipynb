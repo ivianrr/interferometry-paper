{
 "cells": [
  {
   "cell_type": "markdown",
   "metadata": {},
   "source": [
    "Figura teorica de la imagen de Betelgeuse con 4 aperturas"
   ]
  },
  {
   "cell_type": "code",
   "execution_count": 1,
   "metadata": {},
   "outputs": [
    {
     "name": "stderr",
     "output_type": "stream",
     "text": [
      "C:\\Users\\ivian\\AppData\\Local\\Temp\\ipykernel_18196\\3096429382.py:8: DeprecationWarning: Importing display from IPython.core.display is deprecated since IPython 7.14, please import from IPython display\n",
      "  from IPython.core.display import display, HTML\n"
     ]
    }
   ],
   "source": [
    "import pandas as pd\n",
    "import numpy as np\n",
    "import matplotlib.pyplot as plt\n",
    "import glob\n",
    "import scipy\n",
    "from scipy.special import jv\n",
    "import re\n",
    "from IPython.core.display import display, HTML\n",
    "from PIL import Image\n",
    "import os.path\n",
    "from scipy.optimize import curve_fit\n",
    "from functools import partial\n",
    "import pickle\n",
    "from parametros import xlimdict, xlimdef\n",
    "\n",
    "plt.rcParams['figure.figsize'] = (5, 4)  # 8*4\n",
    "plt.rcParams['figure.dpi'] = 100"
   ]
  },
  {
   "cell_type": "code",
   "execution_count": 2,
   "metadata": {},
   "outputs": [],
   "source": [
    "with open('intermedio/valoresr0.pkl', 'rb') as f:\n",
    "    r0dict = pickle.load(f)"
   ]
  },
  {
   "cell_type": "code",
   "execution_count": 3,
   "metadata": {},
   "outputs": [
    {
     "name": "stdout",
     "output_type": "stream",
     "text": [
      "0.3629309047496448\n"
     ]
    }
   ],
   "source": [
    "pi = np.pi\n",
    "px = 5e-6  # 4.65e-6\n",
    "N = 10000\n",
    "a0 = 0.00003\n",
    "gamma = 1\n",
    "f = 2.8\n",
    "r0=r0dict[8]\n",
    "print(r0)\n",
    "\n",
    "paths = []\n",
    "names = []\n",
    "\n",
    "for name in glob.glob('datos/cortes/*/*.csv'):\n",
    "    paths.append(name)\n",
    "    names.append(name.split('\\\\')[-1])\n",
    "    \n",
    "files=glob.glob('datos/cortes/*/*.csv')\n",
    "\n",
    "ids = [int(n.split('-')[0]) for n in names]"
   ]
  },
  {
   "cell_type": "code",
   "execution_count": 4,
   "metadata": {},
   "outputs": [],
   "source": [
    "def calculate_I(x_rad,B,D,lamb,r0):\n",
    "    paper_V=np.exp(-3.44*(B/r0)**(5/3))\n",
    "    den = np.pi*x_rad*D/lamb\n",
    "    paper_I=(jv(1,den)/den)**2*(1+paper_V*np.cos(2*pi/lamb*B*x_rad))\n",
    "    return paper_I/paper_I.max()"
   ]
  },
  {
   "cell_type": "code",
   "execution_count": 5,
   "metadata": {},
   "outputs": [
    {
     "data": {
      "text/html": [
       "<div>\n",
       "<style scoped>\n",
       "    .dataframe tbody tr th:only-of-type {\n",
       "        vertical-align: middle;\n",
       "    }\n",
       "\n",
       "    .dataframe tbody tr th {\n",
       "        vertical-align: top;\n",
       "    }\n",
       "\n",
       "    .dataframe thead th {\n",
       "        text-align: right;\n",
       "    }\n",
       "</style>\n",
       "<table border=\"1\" class=\"dataframe\">\n",
       "  <thead>\n",
       "    <tr style=\"text-align: right;\">\n",
       "      <th></th>\n",
       "      <th>Objeto</th>\n",
       "      <th>Filtro</th>\n",
       "      <th>Disco</th>\n",
       "      <th>D (mm)</th>\n",
       "      <th>L (mm)</th>\n",
       "      <th>L1 (mm)</th>\n",
       "      <th>L2 (mm)</th>\n",
       "      <th>Notas</th>\n",
       "      <th>PATH</th>\n",
       "      <th>Imagen</th>\n",
       "      <th>...</th>\n",
       "      <th>DATE</th>\n",
       "      <th>DAY</th>\n",
       "      <th>HOUR</th>\n",
       "      <th>V_media_antigua</th>\n",
       "      <th>S_antigua</th>\n",
       "      <th>S_tip_antigua</th>\n",
       "      <th>V_media</th>\n",
       "      <th>S</th>\n",
       "      <th>S_tip</th>\n",
       "      <th>E_acc</th>\n",
       "    </tr>\n",
       "  </thead>\n",
       "  <tbody>\n",
       "    <tr>\n",
       "      <th>9.0</th>\n",
       "      <td>Betelgeuse</td>\n",
       "      <td>Halfa-35 nm</td>\n",
       "      <td>B/L+C</td>\n",
       "      <td>30.0</td>\n",
       "      <td>NaN</td>\n",
       "      <td>133.0</td>\n",
       "      <td>238.0</td>\n",
       "      <td>4X</td>\n",
       "      <td>datos/imagenes\\Beltegeuse\\9Betelgeuse0014 Bx3 ...</td>\n",
       "      <td>9</td>\n",
       "      <td>...</td>\n",
       "      <td>17-03-15</td>\n",
       "      <td>15</td>\n",
       "      <td>21:51:31</td>\n",
       "      <td>0.483885</td>\n",
       "      <td>0.015082</td>\n",
       "      <td>0.008708</td>\n",
       "      <td>0.483885</td>\n",
       "      <td>0.015082</td>\n",
       "      <td>0.008708</td>\n",
       "      <td>0.086422</td>\n",
       "    </tr>\n",
       "  </tbody>\n",
       "</table>\n",
       "<p>1 rows × 26 columns</p>\n",
       "</div>"
      ],
      "text/plain": [
       "         Objeto       Filtro  Disco  D (mm)  L (mm)  L1 (mm)  L2 (mm) Notas  \\\n",
       "9.0  Betelgeuse  Halfa-35 nm  B/L+C    30.0     NaN    133.0    238.0    4X   \n",
       "\n",
       "                                                  PATH  Imagen  ...      DATE  \\\n",
       "9.0  datos/imagenes\\Beltegeuse\\9Betelgeuse0014 Bx3 ...       9  ...  17-03-15   \n",
       "\n",
       "     DAY      HOUR  V_media_antigua S_antigua S_tip_antigua   V_media  \\\n",
       "9.0   15  21:51:31         0.483885  0.015082      0.008708  0.483885   \n",
       "\n",
       "            S     S_tip     E_acc  \n",
       "9.0  0.015082  0.008708  0.086422  \n",
       "\n",
       "[1 rows x 26 columns]"
      ]
     },
     "execution_count": 5,
     "metadata": {},
     "output_type": "execute_result"
    }
   ],
   "source": [
    "df=pd.read_hdf('intermedio/tabla.h5', 'df')\n",
    "df=df.loc[df[\"Imagen\"]==9]\n",
    "df"
   ]
  },
  {
   "cell_type": "code",
   "execution_count": 6,
   "metadata": {},
   "outputs": [],
   "source": [
    "lamb = df['$\\lambda$'].values[0]*10**-9\n",
    "D = df['D (mm)'].values[0]*0.001\n",
    "b1=df[\"L1 (mm)\"].values[0]/1000\n",
    "b2=df[\"L2 (mm)\"].values[0]/1000\n",
    "\n",
    "\n",
    "idn = df['Imagen'].values[0]\n",
    "csvpath = [file for file in files if file.find(\n",
    "    '\\\\'+str(idn)+'-') > 0][0]\n",
    "cut = pd.read_csv(csvpath)\n",
    "nm = np.max(cut['Distance_(pixels)'])\n",
    "nm = nm/2\n",
    "m = np.linspace(-nm, nm, N)\n",
    "alpha = m*px/f\n",
    "alpha_as = alpha/(pi/180/3600)  # *3 cambiado en v3, mejor en cortes\n",
    "x_rad=alpha_as*(pi/180/3600)\n"
   ]
  },
  {
   "cell_type": "code",
   "execution_count": 7,
   "metadata": {},
   "outputs": [
    {
     "name": "stdout",
     "output_type": "stream",
     "text": [
      "b1=0.133\n",
      "b2=0.238\n",
      "r0=0.363\n"
     ]
    }
   ],
   "source": [
    "print(f\"{b1=}\\n{b2=}\\n{r0=:0.3F}\")"
   ]
  },
  {
   "cell_type": "code",
   "execution_count": 8,
   "metadata": {},
   "outputs": [
    {
     "name": "stdout",
     "output_type": "stream",
     "text": [
      "r0=0.36\n",
      "V1=0.870235925323547\n",
      "V2=0.320051900636453\n",
      "V3=0.5197822352365956\n",
      "V4=0.1780125976921751\n",
      "\n"
     ]
    }
   ],
   "source": [
    "r0=0.36#0.478\n",
    "print(f\"{r0=}\")\n",
    "V1=np.exp(-3.44*((b2-b1)/r0/2)**(5/3))\n",
    "V2=np.exp(-3.44*((b2+b1)/r0/2)**(5/3))\n",
    "V3=np.exp(-3.44*((b1)/r0)**(5/3))\n",
    "V4=np.exp(-3.44*((b2)/r0)**(5/3))\n",
    "print(f\"{V1=}\\n{V2=}\\n{V3=}\\n{V4=}\\n\")"
   ]
  },
  {
   "cell_type": "code",
   "execution_count": 9,
   "metadata": {},
   "outputs": [],
   "source": [
    "# V1=0.91\n",
    "# V2=0.49\n",
    "# V3=0.34\n",
    "# V4=0.66"
   ]
  },
  {
   "cell_type": "code",
   "execution_count": 10,
   "metadata": {},
   "outputs": [],
   "source": [
    "den = np.pi*x_rad*D/lamb\n",
    "apertura=(jv(1,den)/den)**2\n",
    "interferencia=(4\n",
    "+4*(V1)*np.cos(pi/lamb*(b2-b1)*x_rad)\n",
    "+4*(V2)*np.cos(pi/lamb*(b2+b1)*x_rad)\n",
    "+2*(V3)*np.cos(2*pi/lamb*(b1)*x_rad)\n",
    "+2*(V4)*np.cos(2*pi/lamb*(b2)*x_rad)\n",
    ")\n",
    "\n",
    "I_norm=apertura*interferencia\n",
    "I_norm= I_norm/I_norm.max()\n"
   ]
  },
  {
   "cell_type": "code",
   "execution_count": 11,
   "metadata": {},
   "outputs": [
    {
     "data": {
      "image/png": "[encoded data removed]",
      "text/plain": [
       "<Figure size 500x400 with 1 Axes>"
      ]
     },
     "metadata": {
      "needs_background": "light"
     },
     "output_type": "display_data"
    }
   ],
   "source": [
    "\n",
    "fig, ax = plt.subplots()\n",
    "plt.ticklabel_format(useMathText=True)\n",
    "x_rad=alpha_as*(pi/180/3600)\n",
    "limite_x=xlimdict.get(9,xlimdef) \n",
    "plt.xlim([-limite_x, limite_x])\n",
    "ax.set_xlabel('$\\\\alpha$ (rad)')\n",
    "ax.set_ylabel('I/I$_{MAX}$')  \n",
    "\n",
    "\n",
    "ax.plot(x_rad,I_norm,color=\"black\", linewidth=0.5)\n",
    "\n",
    "#plt.legend([f\"r$_0$ = {100*r0:.0f} cm\"])\n",
    "\n",
    "plt.savefig('productos/graficas intensidad teor/Betelgeuse/'+'4openings' +'.pdf')\n",
    "#plt.close()"
   ]
  },
  {
   "cell_type": "code",
   "execution_count": null,
   "metadata": {},
   "outputs": [],
   "source": []
  },
  {
   "cell_type": "code",
   "execution_count": 12,
   "metadata": {},
   "outputs": [],
   "source": [
    "from ipywidgets import interact, interactive, fixed, interact_manual\n",
    "import ipywidgets as widgets\n",
    "%matplotlib widget\n",
    "\n",
    "def plotear(V1,V2,V3,V4):\n",
    "    #plt.close()\n",
    "    x_rad=alpha_as*(pi/180/3600)\n",
    "    den = np.pi*x_rad*D/lamb\n",
    "    apertura=(jv(1,den)/den)**2\n",
    "    interferencia=(4\n",
    "    +4*(V1)*np.cos(pi/lamb*(b2-b1)*x_rad)\n",
    "    +4*(V2)*np.cos(pi/lamb*(b2+b1)*x_rad)\n",
    "    +2*(V3)*np.cos(2*pi/lamb*(b1)*x_rad)\n",
    "    +2*(V4)*np.cos(2*pi/lamb*(b2)*x_rad)\n",
    "    )\n",
    "\n",
    "    I_norm=apertura*interferencia\n",
    "    I_norm= I_norm/I_norm.max()\n",
    "\n",
    "    fig, ax = plt.subplots()\n",
    "    plt.ticklabel_format(useMathText=True)\n",
    "    x_rad=alpha_as*(pi/180/3600)\n",
    "    limite_x=xlimdict.get(9,xlimdef) \n",
    "    plt.xlim([-limite_x, limite_x])\n",
    "    ax.set_xlabel('$\\\\alpha$ (rad)')\n",
    "    ax.set_ylabel('I/I$_{MAX}$')  \n",
    "\n",
    "\n",
    "    ax.plot(x_rad,I_norm,color=\"black\", linewidth=0.5)\n",
    "    return plt.show()"
   ]
  },
  {
   "cell_type": "code",
   "execution_count": 13,
   "metadata": {},
   "outputs": [
    {
     "data": {
      "application/vnd.jupyter.widget-view+json": {
       "model_id": "bc8b833fc7dc4b1a9190d0cb2cb09778",
       "version_major": 2,
       "version_minor": 0
      },
      "text/plain": [
       "interactive(children=(FloatSlider(value=1.0, description='V1', max=1.0, min=0.001, step=0.01), FloatSlider(val…"
      ]
     },
     "metadata": {},
     "output_type": "display_data"
    }
   ],
   "source": [
    "%matplotlib widget\n",
    "\n",
    "interact(plotear, V1 = widgets.FloatSlider(value=1,\n",
    "                                               min=0.001,\n",
    "                                               max=1,\n",
    "                                               step=0.01), \n",
    "                  V2 = widgets.FloatSlider(value=1,\n",
    "                                               min=0.001,\n",
    "                                               max=1,\n",
    "                                               step=0.01), \n",
    "                  V3 = widgets.FloatSlider(value=1,\n",
    "                                               min=0.001,\n",
    "                                               max=1,\n",
    "                                               step=0.01), \n",
    "                  V4 = widgets.FloatSlider(value=1,\n",
    "                                               min=0.001,\n",
    "                                               max=1,\n",
    "                                               step=0.01));"
   ]
  },
  {
   "cell_type": "code",
   "execution_count": null,
   "metadata": {},
   "outputs": [],
   "source": []
  }
 ],
 "metadata": {
  "interpreter": {
   "hash": "70e0e9be64ad07483f9da567ffd7d42f53253c52f8983f63b3d8272e76f322df"
  },
  "kernelspec": {
   "display_name": "Python 3.9.12 ('jupy')",
   "language": "python",
   "name": "python3"
  },
  "language_info": {
   "codemirror_mode": {
    "name": "ipython",
    "version": 3
   },
   "file_extension": ".py",
   "mimetype": "text/x-python",
   "name": "python",
   "nbconvert_exporter": "python",
   "pygments_lexer": "ipython3",
   "version": "3.9.12"
  },
  "orig_nbformat": 4
 },
 "nbformat": 4,
 "nbformat_minor": 2
}
