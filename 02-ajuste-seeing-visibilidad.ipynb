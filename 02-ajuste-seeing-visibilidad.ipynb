{
 "cells": [
  {
   "cell_type": "markdown",
   "metadata": {},
   "source": [
    "Revisamos las graficas de la Vexp en funcion de line base, agrupando por estrella y longitud de onda. Aseguramos ademas que sea el mismo dia!"
   ]
  },
  {
   "cell_type": "code",
   "execution_count": 44,
   "metadata": {},
   "outputs": [],
   "source": [
    "import pandas as pd\n",
    "import numpy as np\n",
    "import matplotlib.pyplot as plt\n",
    "import os\n",
    "from scipy.optimize import curve_fit\n",
    "import warnings\n",
    "import pickle\n",
    "from matplotlib import container\n",
    "\n",
    "# from functools import partial\n",
    "\n",
    "plt.rcParams['figure.figsize'] = (6, 4)  # 8*4\n",
    "plt.rcParams['figure.dpi'] = 100\n"
   ]
  },
  {
   "cell_type": "code",
   "execution_count": 45,
   "metadata": {},
   "outputs": [],
   "source": [
    "def make_dir(file_or_dir):\n",
    "    \"\"\"Given a dir or file path, creates the dir if needed and returns de original string\"\"\"\n",
    "    results_dir=os.path.dirname(file_or_dir)\n",
    "    if not os.path.isdir(results_dir):\n",
    "        os.makedirs(results_dir)\n",
    "    return file_or_dir"
   ]
  },
  {
   "cell_type": "code",
   "execution_count": null,
   "metadata": {},
   "outputs": [],
   "source": []
  },
  {
   "cell_type": "code",
   "execution_count": 46,
   "metadata": {},
   "outputs": [],
   "source": [
    "styledict_exp1=dict(marker='x',color='black',linestyle='None',\n",
    "ecolor=(0, 0, 0, 0.4),elinewidth=1,capsize=2.5,)\n",
    "\n",
    "\n",
    "styledict_exp2=styledict_exp1.copy()\n",
    "styledict_exp2.update(dict(marker='^',ecolor=(0, 0, 0, 0.4),ms=4))\n",
    "\n",
    "ls1='--'\n",
    "ls2='-.'"
   ]
  },
  {
   "cell_type": "code",
   "execution_count": 47,
   "metadata": {},
   "outputs": [],
   "source": [
    "r0dict={}\n",
    "r0errdict={}"
   ]
  },
  {
   "cell_type": "code",
   "execution_count": 48,
   "metadata": {},
   "outputs": [],
   "source": [
    "def get_V(B,r0):\n",
    "    return np.exp(-3.44*(B/r0)**(5/3))"
   ]
  },
  {
   "cell_type": "code",
   "execution_count": 49,
   "metadata": {},
   "outputs": [],
   "source": [
    "def get_errorr0(r0, B_exp,V_exp,delta=0.001):\n",
    "    \"\"\"Metodo para calcular el error segun las formulas del excel, el resultado es equivalente al de get_err() \"\"\"\n",
    "    B_exp=np.array(B_exp)\n",
    "    V_exp=np.array(V_exp)    \n",
    "    V_teor=np.exp(-3.44*(B_exp/r0)**(5/3))\n",
    "    errors2sum=np.sum((V_teor-V_exp)**2)\n",
    "    desvest=(errors2sum/(len(B_exp)-1))**0.5\n",
    "    dv=(np.exp(-3.44*(B_exp/r0)**(5/3))-np.exp(-3.44*(B_exp/(r0+delta))**(5/3)))/delta\n",
    "    print(dv)\n",
    "    dv2=dv**2\n",
    "    sumadv2=np.sum(dv2)\n",
    "    errorr0=desvest/sumadv2**0.5\n",
    "    return errorr0"
   ]
  },
  {
   "cell_type": "code",
   "execution_count": 50,
   "metadata": {},
   "outputs": [],
   "source": [
    "def get_err(pcov):\n",
    "    \"\"\"Metodo correcto de calcular el error segun la documentación.\"\"\"\n",
    "    return np.sqrt(np.diag(pcov))[0]"
   ]
  },
  {
   "cell_type": "code",
   "execution_count": 51,
   "metadata": {},
   "outputs": [],
   "source": [
    "B=np.linspace(0,0.3,1000)\n",
    "# V_sirio=get_V(B,0.284126682)\n",
    "# V_betel=get_V(B,0.478384865)"
   ]
  },
  {
   "cell_type": "code",
   "execution_count": 52,
   "metadata": {},
   "outputs": [],
   "source": [
    "# B_sirio_exp=[0.22,0.238,0.205,0.187]\n",
    "# V_sirio_exp=[0.094463463,0.015108305,0.138378891,0.226590674]\n",
    "\n",
    "# B_bet_exp=[0.147,0.238]\n",
    "# V_bet_exp=[0.641221919,0.32258731]\n"
   ]
  },
  {
   "cell_type": "code",
   "execution_count": 53,
   "metadata": {},
   "outputs": [
    {
     "name": "stdout",
     "output_type": "stream",
     "text": [
      "Index(['Objeto', 'Filtro', 'Disco', 'D (mm)', 'L (mm)', 'L1 (mm)', 'L2 (mm)',\n",
      "       'Notas', 'PATH', 'Imagen', '$\\lambda$', '$d\\lambda$', 'alphap',\n",
      "       'alphap_mas', 'filtername', 'starname', 'DATE', 'DAY', 'HOUR',\n",
      "       'V_media_antigua', 'S_antigua', 'S_tip_antigua', 'V_media', 'S',\n",
      "       'S_tip', 'E_acc'],\n",
      "      dtype='object')\n"
     ]
    }
   ],
   "source": [
    "df_prev=pd.read_hdf('intermedio/tabla.h5', 'df')\n",
    "print(df_prev.keys())\n",
    "dispcols=['Imagen','Objeto','DATE','Filtro','L (mm)','V_media','S','E_acc','D (mm)',\"V_media_antigua\",\"S_antigua\"]"
   ]
  },
  {
   "cell_type": "code",
   "execution_count": 54,
   "metadata": {},
   "outputs": [],
   "source": [
    "#df_S=pd.read_csv(\"v_individualesyajuster0inicial.csv\",sep=';',index_col='indice')[['V_media','S']]\n",
    "\n",
    "df=df_prev#.join(df_S)"
   ]
  },
  {
   "cell_type": "code",
   "execution_count": 55,
   "metadata": {},
   "outputs": [
    {
     "name": "stdout",
     "output_type": "stream",
     "text": [
      "Index(['Objeto', 'Filtro', 'Disco', 'D (mm)', 'L (mm)', 'L1 (mm)', 'L2 (mm)',\n",
      "       'Notas', 'PATH', 'Imagen', '$\\lambda$', '$d\\lambda$', 'alphap',\n",
      "       'alphap_mas', 'filtername', 'starname', 'DATE', 'DAY', 'HOUR',\n",
      "       'V_media_antigua', 'S_antigua', 'S_tip_antigua', 'V_media', 'S',\n",
      "       'S_tip', 'E_acc'],\n",
      "      dtype='object')\n"
     ]
    }
   ],
   "source": [
    "print(df_prev.keys())"
   ]
  },
  {
   "cell_type": "markdown",
   "metadata": {},
   "source": [
    "# Sirio (Dia 23)"
   ]
  },
  {
   "cell_type": "code",
   "execution_count": 56,
   "metadata": {},
   "outputs": [
    {
     "data": {
      "text/html": [
       "<div>\n",
       "<style scoped>\n",
       "    .dataframe tbody tr th:only-of-type {\n",
       "        vertical-align: middle;\n",
       "    }\n",
       "\n",
       "    .dataframe tbody tr th {\n",
       "        vertical-align: top;\n",
       "    }\n",
       "\n",
       "    .dataframe thead th {\n",
       "        text-align: right;\n",
       "    }\n",
       "</style>\n",
       "<table border=\"1\" class=\"dataframe\">\n",
       "  <thead>\n",
       "    <tr style=\"text-align: right;\">\n",
       "      <th></th>\n",
       "      <th>Imagen</th>\n",
       "      <th>Objeto</th>\n",
       "      <th>DATE</th>\n",
       "      <th>Filtro</th>\n",
       "      <th>L (mm)</th>\n",
       "      <th>V_media</th>\n",
       "      <th>S</th>\n",
       "      <th>E_acc</th>\n",
       "      <th>D (mm)</th>\n",
       "      <th>V_media_antigua</th>\n",
       "      <th>S_antigua</th>\n",
       "      <th>DATE</th>\n",
       "    </tr>\n",
       "  </thead>\n",
       "  <tbody>\n",
       "    <tr>\n",
       "      <th>14.0</th>\n",
       "      <td>14</td>\n",
       "      <td>Sirio</td>\n",
       "      <td>17-03-23</td>\n",
       "      <td>Halfa-35 nm</td>\n",
       "      <td>238.0</td>\n",
       "      <td>0.015108</td>\n",
       "      <td>0.001886</td>\n",
       "      <td>0.010804</td>\n",
       "      <td>30.0</td>\n",
       "      <td>0.015108</td>\n",
       "      <td>0.001886</td>\n",
       "      <td>17-03-23</td>\n",
       "    </tr>\n",
       "    <tr>\n",
       "      <th>15.0</th>\n",
       "      <td>15</td>\n",
       "      <td>Sirio</td>\n",
       "      <td>17-03-23</td>\n",
       "      <td>Halfa-35 nm</td>\n",
       "      <td>133.0</td>\n",
       "      <td>0.268869</td>\n",
       "      <td>0.013899</td>\n",
       "      <td>0.079645</td>\n",
       "      <td>30.0</td>\n",
       "      <td>0.268869</td>\n",
       "      <td>0.013899</td>\n",
       "      <td>17-03-23</td>\n",
       "    </tr>\n",
       "    <tr>\n",
       "      <th>16.0</th>\n",
       "      <td>16</td>\n",
       "      <td>Sirio</td>\n",
       "      <td>17-03-23</td>\n",
       "      <td>Halfa-35 nm</td>\n",
       "      <td>222.0</td>\n",
       "      <td>0.139991</td>\n",
       "      <td>0.021037</td>\n",
       "      <td>0.120546</td>\n",
       "      <td>50.0</td>\n",
       "      <td>0.139991</td>\n",
       "      <td>0.021037</td>\n",
       "      <td>17-03-23</td>\n",
       "    </tr>\n",
       "    <tr>\n",
       "      <th>17.0</th>\n",
       "      <td>17</td>\n",
       "      <td>Sirio</td>\n",
       "      <td>17-03-23</td>\n",
       "      <td>Halfa-35 nm</td>\n",
       "      <td>162.0</td>\n",
       "      <td>0.205609</td>\n",
       "      <td>0.051177</td>\n",
       "      <td>0.293257</td>\n",
       "      <td>65.0</td>\n",
       "      <td>0.205609</td>\n",
       "      <td>0.051177</td>\n",
       "      <td>17-03-23</td>\n",
       "    </tr>\n",
       "  </tbody>\n",
       "</table>\n",
       "</div>"
      ],
      "text/plain": [
       "      Imagen Objeto      DATE       Filtro  L (mm)   V_media         S  \\\n",
       "14.0      14  Sirio  17-03-23  Halfa-35 nm   238.0  0.015108  0.001886   \n",
       "15.0      15  Sirio  17-03-23  Halfa-35 nm   133.0  0.268869  0.013899   \n",
       "16.0      16  Sirio  17-03-23  Halfa-35 nm   222.0  0.139991  0.021037   \n",
       "17.0      17  Sirio  17-03-23  Halfa-35 nm   162.0  0.205609  0.051177   \n",
       "\n",
       "         E_acc  D (mm)  V_media_antigua  S_antigua      DATE  \n",
       "14.0  0.010804    30.0         0.015108   0.001886  17-03-23  \n",
       "15.0  0.079645    30.0         0.268869   0.013899  17-03-23  \n",
       "16.0  0.120546    50.0         0.139991   0.021037  17-03-23  \n",
       "17.0  0.293257    65.0         0.205609   0.051177  17-03-23  "
      ]
     },
     "execution_count": 56,
     "metadata": {},
     "output_type": "execute_result"
    }
   ],
   "source": [
    "cond=(df['DAY']==23) & (df['Filtro']=='Halfa-35 nm') \n",
    "df_sel=df.loc[cond]\n",
    "df_sel[dispcols+['DATE']]"
   ]
  },
  {
   "cell_type": "code",
   "execution_count": 57,
   "metadata": {},
   "outputs": [
    {
     "data": {
      "text/plain": [
       "'17-03-23'"
      ]
     },
     "execution_count": 57,
     "metadata": {},
     "output_type": "execute_result"
    }
   ],
   "source": [
    "date=df_sel['DATE'].iloc[0]\n",
    "date[:2]+'-'+date[3:5]+'-'+date[6:]"
   ]
  },
  {
   "cell_type": "markdown",
   "metadata": {},
   "source": [
    "### Prueba de errores"
   ]
  },
  {
   "cell_type": "code",
   "execution_count": 58,
   "metadata": {},
   "outputs": [
    {
     "name": "stdout",
     "output_type": "stream",
     "text": [
      "0.25220956245896947 +- 0.015168958355392427\n",
      "[-0.9085143  -2.394583   -1.13893187 -2.09821755]\n",
      "0.015168958363374636\n",
      "7.98220864406396e-12\n"
     ]
    }
   ],
   "source": [
    "B_exp=df_sel['L (mm)']/1000\n",
    "V_exp=df_sel['V_media']\n",
    "\n",
    "popt, pcov =curve_fit(get_V, B_exp,V_exp,p0=0.2,bounds=(0.01,1))\n",
    "\n",
    "perr = np.sqrt(np.diag(pcov))\n",
    "print(popt[0],'+-',perr[0])\n",
    "err=get_errorr0(popt[0], B_exp,V_exp,delta=1e-8)\n",
    "print(err)\n",
    "print(err-perr[0])"
   ]
  },
  {
   "cell_type": "code",
   "execution_count": 59,
   "metadata": {},
   "outputs": [
    {
     "name": "stdout",
     "output_type": "stream",
     "text": [
      "r0= 0.25220956245896947\n"
     ]
    },
    {
     "data": {
      "image/png": "[encoded data removed]",
      "text/plain": [
       "<Figure size 600x400 with 1 Axes>"
      ]
     },
     "metadata": {
      "needs_background": "light"
     },
     "output_type": "display_data"
    }
   ],
   "source": [
    "B_exp=df_sel['L (mm)']/1000\n",
    "V_exp=df_sel['V_media']\n",
    "\n",
    "popt, pcov =curve_fit(get_V, B_exp,V_exp,p0=0.2,bounds=(0.01,1))\n",
    "print(\"r0=\",*popt)\n",
    "V_fit=get_V(B,popt[0])\n",
    "for n in df_sel['Imagen']:\n",
    "    if n in r0dict:\n",
    "        warnings.warn(\"Calculando r0 para una imagen dos veces\")\n",
    "    r0dict[n]=popt[0]\n",
    "    r0errdict[n]=get_err(pcov)\n",
    "\n",
    "\n",
    "fig, ax = plt.subplots()\n",
    "plt.ticklabel_format(useMathText=True)\n",
    "plt.xlim([0, 0.3])\n",
    "plt.ylim([0, 1])\n",
    "plt.plot(B, V_fit,ls1,color='black',label=f\"Best fit curve with $r_0$ = {popt[0]:0.3F} m\")\n",
    "plt.errorbar(B_exp, V_exp, yerr=df_sel['E_acc'],label=\"Experimental points\",**styledict_exp1)\n",
    "#ax.legend()\n",
    "\n",
    "date=df_sel['DATE'].iloc[0]\n",
    "ax.set_title(f'{date}')\n",
    "ax.text(0.47, 0.95, \"(c)\", transform=ax.transAxes, fontsize=14, verticalalignment='top')\n",
    "ax.set_xlabel(\"B (m)\")\n",
    "ax.set_ylabel(\"V\")\n",
    "\n",
    "\n",
    "plt.savefig(make_dir(\"productos/ajustes/ajuste-sirio-23.pdf\"))"
   ]
  },
  {
   "cell_type": "markdown",
   "metadata": {},
   "source": [
    "# a parte-  Betelgeuse (Dia 15)"
   ]
  },
  {
   "cell_type": "code",
   "execution_count": 60,
   "metadata": {},
   "outputs": [
    {
     "data": {
      "text/html": [
       "<div>\n",
       "<style scoped>\n",
       "    .dataframe tbody tr th:only-of-type {\n",
       "        vertical-align: middle;\n",
       "    }\n",
       "\n",
       "    .dataframe tbody tr th {\n",
       "        vertical-align: top;\n",
       "    }\n",
       "\n",
       "    .dataframe thead th {\n",
       "        text-align: right;\n",
       "    }\n",
       "</style>\n",
       "<table border=\"1\" class=\"dataframe\">\n",
       "  <thead>\n",
       "    <tr style=\"text-align: right;\">\n",
       "      <th></th>\n",
       "      <th>Imagen</th>\n",
       "      <th>Objeto</th>\n",
       "      <th>DATE</th>\n",
       "      <th>Filtro</th>\n",
       "      <th>L (mm)</th>\n",
       "      <th>V_media</th>\n",
       "      <th>S</th>\n",
       "      <th>E_acc</th>\n",
       "      <th>D (mm)</th>\n",
       "      <th>V_media_antigua</th>\n",
       "      <th>S_antigua</th>\n",
       "    </tr>\n",
       "  </thead>\n",
       "  <tbody>\n",
       "    <tr>\n",
       "      <th>8.0</th>\n",
       "      <td>8</td>\n",
       "      <td>Betelgeuse</td>\n",
       "      <td>17-03-15</td>\n",
       "      <td>Halfa-35 nm</td>\n",
       "      <td>147.0</td>\n",
       "      <td>0.641222</td>\n",
       "      <td>0.008581</td>\n",
       "      <td>0.049168</td>\n",
       "      <td>51.0</td>\n",
       "      <td>0.641222</td>\n",
       "      <td>0.008581</td>\n",
       "    </tr>\n",
       "    <tr>\n",
       "      <th>10.0</th>\n",
       "      <td>10</td>\n",
       "      <td>Betelgeuse</td>\n",
       "      <td>17-03-15</td>\n",
       "      <td>Halfa-35 nm</td>\n",
       "      <td>238.0</td>\n",
       "      <td>0.322587</td>\n",
       "      <td>0.003800</td>\n",
       "      <td>0.021777</td>\n",
       "      <td>30.0</td>\n",
       "      <td>0.322587</td>\n",
       "      <td>0.003800</td>\n",
       "    </tr>\n",
       "    <tr>\n",
       "      <th>11.0</th>\n",
       "      <td>11</td>\n",
       "      <td>Betelgeuse</td>\n",
       "      <td>17-03-15</td>\n",
       "      <td>Halfa-35 nm</td>\n",
       "      <td>133.0</td>\n",
       "      <td>0.211979</td>\n",
       "      <td>0.018689</td>\n",
       "      <td>0.107091</td>\n",
       "      <td>30.0</td>\n",
       "      <td>0.211979</td>\n",
       "      <td>0.018689</td>\n",
       "    </tr>\n",
       "  </tbody>\n",
       "</table>\n",
       "</div>"
      ],
      "text/plain": [
       "      Imagen      Objeto      DATE       Filtro  L (mm)   V_media         S  \\\n",
       "8.0        8  Betelgeuse  17-03-15  Halfa-35 nm   147.0  0.641222  0.008581   \n",
       "10.0      10  Betelgeuse  17-03-15  Halfa-35 nm   238.0  0.322587  0.003800   \n",
       "11.0      11  Betelgeuse  17-03-15  Halfa-35 nm   133.0  0.211979  0.018689   \n",
       "\n",
       "         E_acc  D (mm)  V_media_antigua  S_antigua  \n",
       "8.0   0.049168    51.0         0.641222   0.008581  \n",
       "10.0  0.021777    30.0         0.322587   0.003800  \n",
       "11.0  0.107091    30.0         0.211979   0.018689  "
      ]
     },
     "execution_count": 60,
     "metadata": {},
     "output_type": "execute_result"
    }
   ],
   "source": [
    "cond=(df['DAY']==15) & (df['Filtro']=='Halfa-35 nm') & (df['Objeto']=='Betelgeuse')&(df['Imagen']!=9)\n",
    "df_sel=df.loc[cond]#.loc[df['Imagen'].isin([8,10])]\n",
    "df_sel[dispcols]"
   ]
  },
  {
   "cell_type": "code",
   "execution_count": 61,
   "metadata": {},
   "outputs": [
    {
     "name": "stdout",
     "output_type": "stream",
     "text": [
      "nuevo r0= 0.3629309047496448\n",
      "inicial r0= 0.3629309047496448\n"
     ]
    },
    {
     "data": {
      "text/plain": [
       "'17-03-15'"
      ]
     },
     "execution_count": 61,
     "metadata": {},
     "output_type": "execute_result"
    },
    {
     "data": {
      "image/png": "[encoded data removed]",
      "text/plain": [
       "<Figure size 600x400 with 1 Axes>"
      ]
     },
     "metadata": {
      "needs_background": "light"
     },
     "output_type": "display_data"
    }
   ],
   "source": [
    "B_exp=df_sel['L (mm)']/1000\n",
    "V_exp=df_sel['V_media']\n",
    "\n",
    "popt, pcov =curve_fit(get_V, B_exp,V_exp,p0=0.2,bounds=(0.01,1))\n",
    "poptold, pcovold =curve_fit(get_V, B_exp,df_sel['V_media'],p0=0.2,bounds=(0.01,1))\n",
    "print(\"nuevo r0=\",*popt)\n",
    "print(\"inicial r0=\",*poptold)\n",
    "V_fit=get_V(B,popt[0])\n",
    "for n in df_sel['Imagen']:\n",
    "    if n in r0dict:\n",
    "        warnings.warn(\"Calculando r0 para una imagen dos veces\")\n",
    "    r0dict[n]=popt[0]\n",
    "    r0errdict[n]=get_err(pcov)\n",
    "\n",
    "fig, ax = plt.subplots()\n",
    "plt.ticklabel_format(useMathText=True)\n",
    "plt.xlim([0, 0.3])\n",
    "plt.ylim([0, 1])\n",
    "plt.plot(B, V_fit,ls1,c='black',label=f\"Best fit curve with $r_0$ = {popt[0]:0.3F} m\")\n",
    "plt.errorbar(B_exp, V_exp, yerr=df_sel['E_acc'],label=\"Experimental points\",**styledict_exp1)\n",
    "#ax.legend()\n",
    "date=df_sel['DATE'].iloc[0]\n",
    "ax.set_title(f'{date}')\n",
    "ax.text(0.47, 0.95, \"(b)\", transform=ax.transAxes, fontsize=14, verticalalignment='top')\n",
    "ax.set_xlabel(\"B (m)\")\n",
    "ax.set_ylabel(\"V\")\n",
    "plt.savefig(make_dir(\"productos/ajustes/ajuste-betel-15.pdf\"))\n",
    "date"
   ]
  },
  {
   "cell_type": "markdown",
   "metadata": {},
   "source": [
    "# x Betelgeuse comparacion (Dia 15)"
   ]
  },
  {
   "cell_type": "code",
   "execution_count": 62,
   "metadata": {},
   "outputs": [
    {
     "data": {
      "text/html": [
       "<div>\n",
       "<style scoped>\n",
       "    .dataframe tbody tr th:only-of-type {\n",
       "        vertical-align: middle;\n",
       "    }\n",
       "\n",
       "    .dataframe tbody tr th {\n",
       "        vertical-align: top;\n",
       "    }\n",
       "\n",
       "    .dataframe thead th {\n",
       "        text-align: right;\n",
       "    }\n",
       "</style>\n",
       "<table border=\"1\" class=\"dataframe\">\n",
       "  <thead>\n",
       "    <tr style=\"text-align: right;\">\n",
       "      <th></th>\n",
       "      <th>Imagen</th>\n",
       "      <th>Objeto</th>\n",
       "      <th>DATE</th>\n",
       "      <th>Filtro</th>\n",
       "      <th>L (mm)</th>\n",
       "      <th>V_media</th>\n",
       "      <th>S</th>\n",
       "      <th>E_acc</th>\n",
       "      <th>D (mm)</th>\n",
       "      <th>V_media_antigua</th>\n",
       "      <th>S_antigua</th>\n",
       "    </tr>\n",
       "  </thead>\n",
       "  <tbody>\n",
       "    <tr>\n",
       "      <th>8.0</th>\n",
       "      <td>8</td>\n",
       "      <td>Betelgeuse</td>\n",
       "      <td>17-03-15</td>\n",
       "      <td>Halfa-35 nm</td>\n",
       "      <td>147.0</td>\n",
       "      <td>0.641222</td>\n",
       "      <td>0.008581</td>\n",
       "      <td>0.049168</td>\n",
       "      <td>51.0</td>\n",
       "      <td>0.641222</td>\n",
       "      <td>0.008581</td>\n",
       "    </tr>\n",
       "    <tr>\n",
       "      <th>10.0</th>\n",
       "      <td>10</td>\n",
       "      <td>Betelgeuse</td>\n",
       "      <td>17-03-15</td>\n",
       "      <td>Halfa-35 nm</td>\n",
       "      <td>238.0</td>\n",
       "      <td>0.322587</td>\n",
       "      <td>0.003800</td>\n",
       "      <td>0.021777</td>\n",
       "      <td>30.0</td>\n",
       "      <td>0.322587</td>\n",
       "      <td>0.003800</td>\n",
       "    </tr>\n",
       "    <tr>\n",
       "      <th>11.0</th>\n",
       "      <td>11</td>\n",
       "      <td>Betelgeuse</td>\n",
       "      <td>17-03-15</td>\n",
       "      <td>Halfa-35 nm</td>\n",
       "      <td>133.0</td>\n",
       "      <td>0.211979</td>\n",
       "      <td>0.018689</td>\n",
       "      <td>0.107091</td>\n",
       "      <td>30.0</td>\n",
       "      <td>0.211979</td>\n",
       "      <td>0.018689</td>\n",
       "    </tr>\n",
       "  </tbody>\n",
       "</table>\n",
       "</div>"
      ],
      "text/plain": [
       "      Imagen      Objeto      DATE       Filtro  L (mm)   V_media         S  \\\n",
       "8.0        8  Betelgeuse  17-03-15  Halfa-35 nm   147.0  0.641222  0.008581   \n",
       "10.0      10  Betelgeuse  17-03-15  Halfa-35 nm   238.0  0.322587  0.003800   \n",
       "11.0      11  Betelgeuse  17-03-15  Halfa-35 nm   133.0  0.211979  0.018689   \n",
       "\n",
       "         E_acc  D (mm)  V_media_antigua  S_antigua  \n",
       "8.0   0.049168    51.0         0.641222   0.008581  \n",
       "10.0  0.021777    30.0         0.322587   0.003800  \n",
       "11.0  0.107091    30.0         0.211979   0.018689  "
      ]
     },
     "execution_count": 62,
     "metadata": {},
     "output_type": "execute_result"
    }
   ],
   "source": [
    "cond=(df['DAY']==15) & (df['Filtro']=='Halfa-35 nm') & (df['Objeto']=='Betelgeuse')&(df['Imagen']!=9)\n",
    "df_sel=df.loc[cond]#.loc[df['Imagen'].isin([8,10])]\n",
    "df_sel[dispcols]"
   ]
  },
  {
   "cell_type": "code",
   "execution_count": 63,
   "metadata": {},
   "outputs": [
    {
     "name": "stdout",
     "output_type": "stream",
     "text": [
      "nuevo r0= 0.3629309047496448\n",
      "inicial r0= 0.3629309047496448\n"
     ]
    },
    {
     "data": {
      "text/plain": [
       "Text(0, 0.5, 'V')"
      ]
     },
     "execution_count": 63,
     "metadata": {},
     "output_type": "execute_result"
    },
    {
     "data": {
      "image/png": "[encoded data removed]",
      "text/plain": [
       "<Figure size 600x400 with 1 Axes>"
      ]
     },
     "metadata": {
      "needs_background": "light"
     },
     "output_type": "display_data"
    }
   ],
   "source": [
    "B_exp=df_sel['L (mm)']/1000\n",
    "V_exp=df_sel['V_media']\n",
    "\n",
    "popt, pcov =curve_fit(get_V, B_exp,V_exp,p0=0.2,bounds=(0.01,1))\n",
    "poptold, pcovold =curve_fit(get_V, B_exp,df_sel['V_media_antigua'],p0=0.2,bounds=(0.01,1))\n",
    "print(\"nuevo r0=\",*popt)\n",
    "print(\"inicial r0=\",*poptold)\n",
    "V_fit=get_V(B,popt[0])\n",
    "# for n in df_sel['Imagen']:\n",
    "#     if n in r0dict:\n",
    "#         warnings.warn(\"Calculando r0 para una imagen dos veces\")\n",
    "#     r0dict[n]=popt[0]\n",
    "\n",
    "fig, ax = plt.subplots()\n",
    "plt.ticklabel_format(useMathText=True)\n",
    "plt.xlim([0, 0.3])\n",
    "plt.ylim([0, 1])\n",
    "plt.plot(B, V_fit,ls1,c='black',label=f\"Best fit curve with $r_0$ = {popt[0]:0.3F} m\")\n",
    "# plt.plot(B_bet_exp, V_bet_exp, color='r', linestyle='None',marker='x')\n",
    "plt.errorbar(B_exp, V_exp, yerr=df_sel['S'],label=\"Experimental points\",**styledict_exp1)\n",
    "plt.errorbar(B_exp, V_exp, yerr=df_sel['E_acc'],label=\"Experimental error nuevo\",marker='x',color='red',linestyle='None',\n",
    "ecolor=(1, 0, 0, 0.4),elinewidth=1,capsize=2.5)\n",
    "ax.legend()\n",
    "ax.set_title('Betelgeuse')\n",
    "ax.set_xlabel(\"B (m)\")\n",
    "ax.set_ylabel(\"V\")\n",
    "#plt.savefig(\"productos/ajustes/ajuste-betel-15.pdf\")"
   ]
  },
  {
   "cell_type": "markdown",
   "metadata": {},
   "source": [
    "# Comparacion lambda Sirio (Dia 29)"
   ]
  },
  {
   "cell_type": "code",
   "execution_count": 64,
   "metadata": {},
   "outputs": [
    {
     "data": {
      "text/html": [
       "<div>\n",
       "<style scoped>\n",
       "    .dataframe tbody tr th:only-of-type {\n",
       "        vertical-align: middle;\n",
       "    }\n",
       "\n",
       "    .dataframe tbody tr th {\n",
       "        vertical-align: top;\n",
       "    }\n",
       "\n",
       "    .dataframe thead th {\n",
       "        text-align: right;\n",
       "    }\n",
       "</style>\n",
       "<table border=\"1\" class=\"dataframe\">\n",
       "  <thead>\n",
       "    <tr style=\"text-align: right;\">\n",
       "      <th></th>\n",
       "      <th>Imagen</th>\n",
       "      <th>Objeto</th>\n",
       "      <th>DATE</th>\n",
       "      <th>Filtro</th>\n",
       "      <th>L (mm)</th>\n",
       "      <th>V_media</th>\n",
       "      <th>S</th>\n",
       "      <th>E_acc</th>\n",
       "      <th>D (mm)</th>\n",
       "      <th>V_media_antigua</th>\n",
       "      <th>S_antigua</th>\n",
       "    </tr>\n",
       "  </thead>\n",
       "  <tbody>\n",
       "    <tr>\n",
       "      <th>19.0</th>\n",
       "      <td>19</td>\n",
       "      <td>Sirio</td>\n",
       "      <td>17-03-29</td>\n",
       "      <td>Halfa-35 nm</td>\n",
       "      <td>162.0</td>\n",
       "      <td>0.372131</td>\n",
       "      <td>0.017874</td>\n",
       "      <td>0.102422</td>\n",
       "      <td>66.0</td>\n",
       "      <td>0.372131</td>\n",
       "      <td>0.017874</td>\n",
       "    </tr>\n",
       "    <tr>\n",
       "      <th>21.0</th>\n",
       "      <td>21</td>\n",
       "      <td>Sirio</td>\n",
       "      <td>17-03-29</td>\n",
       "      <td>Halfa-35 nm</td>\n",
       "      <td>205.0</td>\n",
       "      <td>0.138379</td>\n",
       "      <td>0.003587</td>\n",
       "      <td>0.020552</td>\n",
       "      <td>66.0</td>\n",
       "      <td>0.138379</td>\n",
       "      <td>0.003587</td>\n",
       "    </tr>\n",
       "    <tr>\n",
       "      <th>22.0</th>\n",
       "      <td>22</td>\n",
       "      <td>Sirio</td>\n",
       "      <td>17-03-29</td>\n",
       "      <td>Halfa-35 nm</td>\n",
       "      <td>187.0</td>\n",
       "      <td>0.226591</td>\n",
       "      <td>0.002237</td>\n",
       "      <td>0.012818</td>\n",
       "      <td>90.0</td>\n",
       "      <td>0.226591</td>\n",
       "      <td>0.002237</td>\n",
       "    </tr>\n",
       "  </tbody>\n",
       "</table>\n",
       "</div>"
      ],
      "text/plain": [
       "      Imagen Objeto      DATE       Filtro  L (mm)   V_media         S  \\\n",
       "19.0      19  Sirio  17-03-29  Halfa-35 nm   162.0  0.372131  0.017874   \n",
       "21.0      21  Sirio  17-03-29  Halfa-35 nm   205.0  0.138379  0.003587   \n",
       "22.0      22  Sirio  17-03-29  Halfa-35 nm   187.0  0.226591  0.002237   \n",
       "\n",
       "         E_acc  D (mm)  V_media_antigua  S_antigua  \n",
       "19.0  0.102422    66.0         0.372131   0.017874  \n",
       "21.0  0.020552    66.0         0.138379   0.003587  \n",
       "22.0  0.012818    90.0         0.226591   0.002237  "
      ]
     },
     "execution_count": 64,
     "metadata": {},
     "output_type": "execute_result"
    }
   ],
   "source": [
    "cond1=(df['DAY']==29) & (df['Filtro']=='Halfa-35 nm') & (df['Objeto']=='Sirio')&(df['Imagen']!=9)\n",
    "df_sel1=df.loc[cond1]\n",
    "df_sel1[dispcols]"
   ]
  },
  {
   "cell_type": "code",
   "execution_count": 65,
   "metadata": {},
   "outputs": [
    {
     "data": {
      "text/html": [
       "<div>\n",
       "<style scoped>\n",
       "    .dataframe tbody tr th:only-of-type {\n",
       "        vertical-align: middle;\n",
       "    }\n",
       "\n",
       "    .dataframe tbody tr th {\n",
       "        vertical-align: top;\n",
       "    }\n",
       "\n",
       "    .dataframe thead th {\n",
       "        text-align: right;\n",
       "    }\n",
       "</style>\n",
       "<table border=\"1\" class=\"dataframe\">\n",
       "  <thead>\n",
       "    <tr style=\"text-align: right;\">\n",
       "      <th></th>\n",
       "      <th>Imagen</th>\n",
       "      <th>Objeto</th>\n",
       "      <th>DATE</th>\n",
       "      <th>Filtro</th>\n",
       "      <th>L (mm)</th>\n",
       "      <th>V_media</th>\n",
       "      <th>S</th>\n",
       "      <th>E_acc</th>\n",
       "      <th>D (mm)</th>\n",
       "      <th>V_media_antigua</th>\n",
       "      <th>S_antigua</th>\n",
       "      <th>PATH</th>\n",
       "    </tr>\n",
       "  </thead>\n",
       "  <tbody>\n",
       "    <tr>\n",
       "      <th>20.0</th>\n",
       "      <td>20</td>\n",
       "      <td>Sirio</td>\n",
       "      <td>17-03-29</td>\n",
       "      <td>Hbeta-8.5nm</td>\n",
       "      <td>162.0</td>\n",
       "      <td>0.072809</td>\n",
       "      <td>0.004383</td>\n",
       "      <td>0.025113</td>\n",
       "      <td>66.0</td>\n",
       "      <td>0.072809</td>\n",
       "      <td>0.004383</td>\n",
       "      <td>datos/imagenes\\Sirio\\20Sirio0002 Bx3 Hbeta8.5n...</td>\n",
       "    </tr>\n",
       "    <tr>\n",
       "      <th>23.0</th>\n",
       "      <td>23</td>\n",
       "      <td>Sirio</td>\n",
       "      <td>17-03-29</td>\n",
       "      <td>Hbeta-8.5nm</td>\n",
       "      <td>187.0</td>\n",
       "      <td>0.139635</td>\n",
       "      <td>0.002157</td>\n",
       "      <td>0.012362</td>\n",
       "      <td>90.0</td>\n",
       "      <td>0.139635</td>\n",
       "      <td>0.002157</td>\n",
       "      <td>datos/imagenes\\Sirio\\23Sirio0007 Bx3 Hbeta8.5n...</td>\n",
       "    </tr>\n",
       "  </tbody>\n",
       "</table>\n",
       "</div>"
      ],
      "text/plain": [
       "      Imagen Objeto      DATE       Filtro  L (mm)   V_media         S  \\\n",
       "20.0      20  Sirio  17-03-29  Hbeta-8.5nm   162.0  0.072809  0.004383   \n",
       "23.0      23  Sirio  17-03-29  Hbeta-8.5nm   187.0  0.139635  0.002157   \n",
       "\n",
       "         E_acc  D (mm)  V_media_antigua  S_antigua  \\\n",
       "20.0  0.025113    66.0         0.072809   0.004383   \n",
       "23.0  0.012362    90.0         0.139635   0.002157   \n",
       "\n",
       "                                                   PATH  \n",
       "20.0  datos/imagenes\\Sirio\\20Sirio0002 Bx3 Hbeta8.5n...  \n",
       "23.0  datos/imagenes\\Sirio\\23Sirio0007 Bx3 Hbeta8.5n...  "
      ]
     },
     "execution_count": 65,
     "metadata": {},
     "output_type": "execute_result"
    }
   ],
   "source": [
    "cond1=(df['DAY']==29) & (df['Filtro']=='Hbeta-8.5nm') & (df['Objeto']=='Sirio')&(df['Imagen']!=9)\n",
    "df_sel2=df.loc[cond1]\n",
    "df_sel2[dispcols+['PATH']]"
   ]
  },
  {
   "cell_type": "code",
   "execution_count": 66,
   "metadata": {},
   "outputs": [
    {
     "name": "stdout",
     "output_type": "stream",
     "text": [
      "r0= 0.3151585549724359\n",
      "r0= 0.21815983603464414\n"
     ]
    },
    {
     "data": {
      "image/png": "[encoded data removed]",
      "text/plain": [
       "<Figure size 600x400 with 1 Axes>"
      ]
     },
     "metadata": {
      "needs_background": "light"
     },
     "output_type": "display_data"
    }
   ],
   "source": [
    "B_exp1=df_sel1['L (mm)']/1000\n",
    "V_exp1=df_sel1['V_media']\n",
    "lambda_1=df_sel1['filtername'].iloc[0]\n",
    "\n",
    "\n",
    "popt, pcov =curve_fit(get_V, B_exp1,V_exp1,p0=0.2,bounds=(0.01,1))\n",
    "print(\"r0=\",*popt)\n",
    "V_fit1=get_V(B,popt[0])\n",
    "r01=popt[0]\n",
    "for n in df_sel1['Imagen']:\n",
    "    if n in r0dict:\n",
    "        warnings.warn(\"Calculando r0 para una imagen dos veces\")\n",
    "    r0dict[n]=r01\n",
    "    r0errdict[n]=get_err(pcov)\n",
    "\n",
    "B_exp2=df_sel2['L (mm)']/1000\n",
    "V_exp2=df_sel2['V_media']\n",
    "lambda_2=df_sel2['filtername'].iloc[0]\n",
    "\n",
    "popt, pcov =curve_fit(get_V, B_exp2,V_exp2,p0=0.2,bounds=(0.01,1))\n",
    "print(\"r0=\",*popt)\n",
    "V_fit2=get_V(B,popt[0])\n",
    "r02=popt[0]\n",
    "for n in df_sel2['Imagen']:\n",
    "    if n in r0dict:\n",
    "        warnings.warn(\"Calculando r0 para una imagen dos veces\")\n",
    "    r0dict[n]=r02\n",
    "    r0errdict[n]=get_err(pcov)\n",
    "\n",
    "fig, ax = plt.subplots()\n",
    "plt.ticklabel_format(useMathText=True)\n",
    "plt.xlim([0, 0.3])\n",
    "plt.ylim([0, 1])\n",
    "plt.plot(B, V_fit1,ls1,c='black',label=\"H${\\\\alpha}$ \") #35 nm\n",
    "plt.plot(B, V_fit2,ls2,c='black',label=\"H${\\\\beta}$\") #8.5 nm\n",
    "\n",
    "plt.errorbar(B_exp1, V_exp1, yerr=df_sel1['E_acc'],label=\"H${\\\\alpha}$\",**styledict_exp1)\n",
    "plt.errorbar(B_exp2, V_exp2, yerr=df_sel2['E_acc'],label=\"H${\\\\beta}$\",**styledict_exp2)\n",
    "# linestyle='None',color='green',marker='s',ms=1,ecolor=(0, .7, 0, 0.4),elinewidth=1.5,capsize=2.5)\n",
    "\n",
    "\n",
    "# get handles\n",
    "handles, labels = ax.get_legend_handles_labels()\n",
    "# remove the errorbars\n",
    "handles = [h[0] if isinstance(h, container.ErrorbarContainer) else h for h in handles]\n",
    "# use them in the legend\n",
    "ax.legend(handles, labels)\n",
    "#ax.legend()\n",
    "\n",
    "date=df_sel1['DATE'].iloc[0]\n",
    "ax.set_title(f'{date}')\n",
    "ax.text(0.47, 0.95, \"(d)\", transform=ax.transAxes, fontsize=14, verticalalignment='top')\n",
    "\n",
    "ax.set_xlabel(\"B (m)\")\n",
    "ax.set_ylabel(\"V\")\n",
    "plt.savefig(make_dir(\"productos/ajustes/ajuste-sirio-comp-lambda.pdf\"))"
   ]
  },
  {
   "cell_type": "markdown",
   "metadata": {},
   "source": [
    "# x Sirio (Dia 10)"
   ]
  },
  {
   "cell_type": "code",
   "execution_count": 67,
   "metadata": {},
   "outputs": [
    {
     "data": {
      "text/html": [
       "<div>\n",
       "<style scoped>\n",
       "    .dataframe tbody tr th:only-of-type {\n",
       "        vertical-align: middle;\n",
       "    }\n",
       "\n",
       "    .dataframe tbody tr th {\n",
       "        vertical-align: top;\n",
       "    }\n",
       "\n",
       "    .dataframe thead th {\n",
       "        text-align: right;\n",
       "    }\n",
       "</style>\n",
       "<table border=\"1\" class=\"dataframe\">\n",
       "  <thead>\n",
       "    <tr style=\"text-align: right;\">\n",
       "      <th></th>\n",
       "      <th>Imagen</th>\n",
       "      <th>Objeto</th>\n",
       "      <th>DATE</th>\n",
       "      <th>Filtro</th>\n",
       "      <th>L (mm)</th>\n",
       "      <th>V_media</th>\n",
       "      <th>S</th>\n",
       "      <th>E_acc</th>\n",
       "      <th>D (mm)</th>\n",
       "      <th>V_media_antigua</th>\n",
       "      <th>S_antigua</th>\n",
       "    </tr>\n",
       "  </thead>\n",
       "  <tbody>\n",
       "    <tr>\n",
       "      <th>1.0</th>\n",
       "      <td>1</td>\n",
       "      <td>Sirio</td>\n",
       "      <td>17-03-10</td>\n",
       "      <td>Halfa-7 nm</td>\n",
       "      <td>220.0</td>\n",
       "      <td>0.094463</td>\n",
       "      <td>0.017632</td>\n",
       "      <td>0.101035</td>\n",
       "      <td>22.0</td>\n",
       "      <td>0.094463</td>\n",
       "      <td>0.017632</td>\n",
       "    </tr>\n",
       "    <tr>\n",
       "      <th>2.0</th>\n",
       "      <td>2</td>\n",
       "      <td>Sirio</td>\n",
       "      <td>17-03-10</td>\n",
       "      <td>Halfa-7 nm</td>\n",
       "      <td>158.0</td>\n",
       "      <td>0.033639</td>\n",
       "      <td>0.014732</td>\n",
       "      <td>0.084420</td>\n",
       "      <td>22.0</td>\n",
       "      <td>0.033639</td>\n",
       "      <td>0.014732</td>\n",
       "    </tr>\n",
       "    <tr>\n",
       "      <th>3.0</th>\n",
       "      <td>3</td>\n",
       "      <td>Sirio</td>\n",
       "      <td>17-03-10</td>\n",
       "      <td>Halfa-7 nm</td>\n",
       "      <td>178.0</td>\n",
       "      <td>0.277885</td>\n",
       "      <td>0.002123</td>\n",
       "      <td>0.012167</td>\n",
       "      <td>61.0</td>\n",
       "      <td>0.277885</td>\n",
       "      <td>0.002123</td>\n",
       "    </tr>\n",
       "  </tbody>\n",
       "</table>\n",
       "</div>"
      ],
      "text/plain": [
       "     Imagen Objeto      DATE      Filtro  L (mm)   V_media         S  \\\n",
       "1.0       1  Sirio  17-03-10  Halfa-7 nm   220.0  0.094463  0.017632   \n",
       "2.0       2  Sirio  17-03-10  Halfa-7 nm   158.0  0.033639  0.014732   \n",
       "3.0       3  Sirio  17-03-10  Halfa-7 nm   178.0  0.277885  0.002123   \n",
       "\n",
       "        E_acc  D (mm)  V_media_antigua  S_antigua  \n",
       "1.0  0.101035    22.0         0.094463   0.017632  \n",
       "2.0  0.084420    22.0         0.033639   0.014732  \n",
       "3.0  0.012167    61.0         0.277885   0.002123  "
      ]
     },
     "execution_count": 67,
     "metadata": {},
     "output_type": "execute_result"
    }
   ],
   "source": [
    "cond=(df['DAY']==10) & (df['Filtro']=='Halfa-7 nm') \n",
    "df_sel=df.loc[cond]\n",
    "df_sel[dispcols]"
   ]
  },
  {
   "cell_type": "code",
   "execution_count": 68,
   "metadata": {},
   "outputs": [
    {
     "name": "stdout",
     "output_type": "stream",
     "text": [
      "r0= 0.24107341172972285\n"
     ]
    },
    {
     "data": {
      "image/png": "[encoded data removed]",
      "text/plain": [
       "<Figure size 600x400 with 1 Axes>"
      ]
     },
     "metadata": {
      "needs_background": "light"
     },
     "output_type": "display_data"
    }
   ],
   "source": [
    "B_exp=df_sel['L (mm)']/1000\n",
    "V_exp=df_sel['V_media']\n",
    "\n",
    "popt, pcov =curve_fit(get_V, B_exp,V_exp,p0=0.2,bounds=(0.01,1))\n",
    "print(\"r0=\",*popt)\n",
    "V_fit=get_V(B,popt[0])\n",
    "for n in df_sel['Imagen']:\n",
    "    if n in r0dict:\n",
    "        warnings.warn(\"Calculando r0 para una imagen dos veces\")\n",
    "    r0dict[n]=popt[0]\n",
    "    r0errdict[n]=get_err(pcov)\n",
    "    \n",
    "fig, ax = plt.subplots()\n",
    "plt.ticklabel_format(useMathText=True)\n",
    "plt.xlim([0, 0.3])\n",
    "plt.ylim([0, 1])\n",
    "\n",
    "plt.plot(B, V_fit,ls1,c='black',label=f\"Best fit curve with $r_0$ = {popt[0]:0.3F} m\")\n",
    "plt.errorbar(B_exp, V_exp, yerr=df_sel['E_acc'],label=\"Experimental points\",**styledict_exp1)\n",
    "\n",
    "# ax.legend()\n",
    "date=df_sel['DATE'].iloc[0]\n",
    "# ax.set_title(f'Sirius ({date})')\n",
    "ax.set_xlabel(\"B (m)\")\n",
    "ax.set_ylabel(\"V\")\n",
    "plt.savefig(make_dir(\"productos/ajustes/ajuste-sirio-10.pdf\"))"
   ]
  },
  {
   "cell_type": "code",
   "execution_count": null,
   "metadata": {},
   "outputs": [],
   "source": []
  },
  {
   "cell_type": "markdown",
   "metadata": {},
   "source": [
    "# a parte - Rigel (Dia 15)"
   ]
  },
  {
   "cell_type": "code",
   "execution_count": 69,
   "metadata": {},
   "outputs": [
    {
     "data": {
      "text/html": [
       "<div>\n",
       "<style scoped>\n",
       "    .dataframe tbody tr th:only-of-type {\n",
       "        vertical-align: middle;\n",
       "    }\n",
       "\n",
       "    .dataframe tbody tr th {\n",
       "        vertical-align: top;\n",
       "    }\n",
       "\n",
       "    .dataframe thead th {\n",
       "        text-align: right;\n",
       "    }\n",
       "</style>\n",
       "<table border=\"1\" class=\"dataframe\">\n",
       "  <thead>\n",
       "    <tr style=\"text-align: right;\">\n",
       "      <th></th>\n",
       "      <th>Imagen</th>\n",
       "      <th>Objeto</th>\n",
       "      <th>DATE</th>\n",
       "      <th>Filtro</th>\n",
       "      <th>L (mm)</th>\n",
       "      <th>V_media</th>\n",
       "      <th>S</th>\n",
       "      <th>E_acc</th>\n",
       "      <th>D (mm)</th>\n",
       "      <th>V_media_antigua</th>\n",
       "      <th>S_antigua</th>\n",
       "    </tr>\n",
       "  </thead>\n",
       "  <tbody>\n",
       "    <tr>\n",
       "      <th>6.0</th>\n",
       "      <td>6</td>\n",
       "      <td>Rigel</td>\n",
       "      <td>17-03-15</td>\n",
       "      <td>Halfa-35 nm</td>\n",
       "      <td>147.0</td>\n",
       "      <td>0.439454</td>\n",
       "      <td>0.007861</td>\n",
       "      <td>0.045045</td>\n",
       "      <td>51.0</td>\n",
       "      <td>0.439454</td>\n",
       "      <td>0.007861</td>\n",
       "    </tr>\n",
       "    <tr>\n",
       "      <th>7.0</th>\n",
       "      <td>7</td>\n",
       "      <td>Rigel</td>\n",
       "      <td>17-03-15</td>\n",
       "      <td>Halfa-35 nm</td>\n",
       "      <td>222.0</td>\n",
       "      <td>0.144100</td>\n",
       "      <td>0.008017</td>\n",
       "      <td>0.045938</td>\n",
       "      <td>51.0</td>\n",
       "      <td>0.144100</td>\n",
       "      <td>0.008017</td>\n",
       "    </tr>\n",
       "  </tbody>\n",
       "</table>\n",
       "</div>"
      ],
      "text/plain": [
       "     Imagen Objeto      DATE       Filtro  L (mm)   V_media         S  \\\n",
       "6.0       6  Rigel  17-03-15  Halfa-35 nm   147.0  0.439454  0.007861   \n",
       "7.0       7  Rigel  17-03-15  Halfa-35 nm   222.0  0.144100  0.008017   \n",
       "\n",
       "        E_acc  D (mm)  V_media_antigua  S_antigua  \n",
       "6.0  0.045045    51.0         0.439454   0.007861  \n",
       "7.0  0.045938    51.0         0.144100   0.008017  "
      ]
     },
     "execution_count": 69,
     "metadata": {},
     "output_type": "execute_result"
    }
   ],
   "source": [
    "cond=(df['Objeto']=='Rigel') & (df['Filtro']=='Halfa-35 nm') \n",
    "df_sel=df.loc[cond]\n",
    "df_sel[dispcols]"
   ]
  },
  {
   "cell_type": "code",
   "execution_count": 70,
   "metadata": {},
   "outputs": [
    {
     "name": "stdout",
     "output_type": "stream",
     "text": [
      "r0= 0.3330430770908755\n"
     ]
    },
    {
     "data": {
      "image/png": "[encoded data removed]",
      "text/plain": [
       "<Figure size 600x400 with 1 Axes>"
      ]
     },
     "metadata": {
      "needs_background": "light"
     },
     "output_type": "display_data"
    }
   ],
   "source": [
    "B_exp=df_sel['L (mm)']/1000\n",
    "V_exp=df_sel['V_media']\n",
    "\n",
    "popt, pcov =curve_fit(get_V, B_exp,V_exp,p0=0.2,bounds=(0.01,1))\n",
    "print(\"r0=\",*popt)\n",
    "V_fit=get_V(B,popt[0])\n",
    "for n in df_sel['Imagen']:\n",
    "    if n in r0dict:\n",
    "        warnings.warn(\"Calculando r0 para una imagen dos veces\")\n",
    "    r0dict[n]=popt[0]\n",
    "    r0errdict[n]=get_err(pcov)\n",
    "    \n",
    "fig, ax = plt.subplots()\n",
    "plt.ticklabel_format(useMathText=True)\n",
    "plt.xlim([0, 0.3])\n",
    "plt.ylim([0, 1])\n",
    "\n",
    "plt.plot(B, V_fit,ls1,c='black',label=f\"Best fit curve with $r_0$ = {popt[0]:0.3F} m\")\n",
    "plt.errorbar(B_exp, V_exp, yerr=df_sel['E_acc'],label=\"Experimental points\",**styledict_exp1)\n",
    "\n",
    "# ax.legend()\n",
    "date=df_sel['DATE'].iloc[0]\n",
    "# ax.set_title(f'Rigel ({date})')\n",
    "ax.set_xlabel(\"B (m)\")\n",
    "ax.set_ylabel(\"V\")\n",
    "plt.savefig(make_dir(\"productos/ajustes/ajuste-rigel-15.pdf\"))"
   ]
  },
  {
   "cell_type": "code",
   "execution_count": null,
   "metadata": {},
   "outputs": [],
   "source": []
  },
  {
   "cell_type": "markdown",
   "metadata": {},
   "source": [
    "# Rigel vs Betelgeuse "
   ]
  },
  {
   "cell_type": "code",
   "execution_count": 71,
   "metadata": {},
   "outputs": [
    {
     "data": {
      "text/html": [
       "<div>\n",
       "<style scoped>\n",
       "    .dataframe tbody tr th:only-of-type {\n",
       "        vertical-align: middle;\n",
       "    }\n",
       "\n",
       "    .dataframe tbody tr th {\n",
       "        vertical-align: top;\n",
       "    }\n",
       "\n",
       "    .dataframe thead th {\n",
       "        text-align: right;\n",
       "    }\n",
       "</style>\n",
       "<table border=\"1\" class=\"dataframe\">\n",
       "  <thead>\n",
       "    <tr style=\"text-align: right;\">\n",
       "      <th></th>\n",
       "      <th>Imagen</th>\n",
       "      <th>Objeto</th>\n",
       "      <th>DATE</th>\n",
       "      <th>Filtro</th>\n",
       "      <th>L (mm)</th>\n",
       "      <th>V_media</th>\n",
       "      <th>S</th>\n",
       "      <th>E_acc</th>\n",
       "      <th>D (mm)</th>\n",
       "      <th>V_media_antigua</th>\n",
       "      <th>S_antigua</th>\n",
       "      <th>HOUR</th>\n",
       "    </tr>\n",
       "  </thead>\n",
       "  <tbody>\n",
       "    <tr>\n",
       "      <th>8.0</th>\n",
       "      <td>8</td>\n",
       "      <td>Betelgeuse</td>\n",
       "      <td>17-03-15</td>\n",
       "      <td>Halfa-35 nm</td>\n",
       "      <td>147.0</td>\n",
       "      <td>0.641222</td>\n",
       "      <td>0.008581</td>\n",
       "      <td>0.049168</td>\n",
       "      <td>51.0</td>\n",
       "      <td>0.641222</td>\n",
       "      <td>0.008581</td>\n",
       "      <td>21:41:53</td>\n",
       "    </tr>\n",
       "    <tr>\n",
       "      <th>10.0</th>\n",
       "      <td>10</td>\n",
       "      <td>Betelgeuse</td>\n",
       "      <td>17-03-15</td>\n",
       "      <td>Halfa-35 nm</td>\n",
       "      <td>238.0</td>\n",
       "      <td>0.322587</td>\n",
       "      <td>0.003800</td>\n",
       "      <td>0.021777</td>\n",
       "      <td>30.0</td>\n",
       "      <td>0.322587</td>\n",
       "      <td>0.003800</td>\n",
       "      <td>22:01:11</td>\n",
       "    </tr>\n",
       "    <tr>\n",
       "      <th>11.0</th>\n",
       "      <td>11</td>\n",
       "      <td>Betelgeuse</td>\n",
       "      <td>17-03-15</td>\n",
       "      <td>Halfa-35 nm</td>\n",
       "      <td>133.0</td>\n",
       "      <td>0.211979</td>\n",
       "      <td>0.018689</td>\n",
       "      <td>0.107091</td>\n",
       "      <td>30.0</td>\n",
       "      <td>0.211979</td>\n",
       "      <td>0.018689</td>\n",
       "      <td>22:05:53</td>\n",
       "    </tr>\n",
       "  </tbody>\n",
       "</table>\n",
       "</div>"
      ],
      "text/plain": [
       "      Imagen      Objeto      DATE       Filtro  L (mm)   V_media         S  \\\n",
       "8.0        8  Betelgeuse  17-03-15  Halfa-35 nm   147.0  0.641222  0.008581   \n",
       "10.0      10  Betelgeuse  17-03-15  Halfa-35 nm   238.0  0.322587  0.003800   \n",
       "11.0      11  Betelgeuse  17-03-15  Halfa-35 nm   133.0  0.211979  0.018689   \n",
       "\n",
       "         E_acc  D (mm)  V_media_antigua  S_antigua      HOUR  \n",
       "8.0   0.049168    51.0         0.641222   0.008581  21:41:53  \n",
       "10.0  0.021777    30.0         0.322587   0.003800  22:01:11  \n",
       "11.0  0.107091    30.0         0.211979   0.018689  22:05:53  "
      ]
     },
     "execution_count": 71,
     "metadata": {},
     "output_type": "execute_result"
    }
   ],
   "source": [
    "cond1=(df['DAY']==15) & (df['Filtro']=='Halfa-35 nm') & (df['Objeto']=='Betelgeuse')&(df['Imagen']!=9)\n",
    "df_sel1=df.loc[cond1]#.loc[df['Imagen'].isin([11,10])]#.loc[df['Imagen'].isin([8,10])]\n",
    "df_sel1[dispcols+['HOUR']]"
   ]
  },
  {
   "cell_type": "code",
   "execution_count": 72,
   "metadata": {},
   "outputs": [
    {
     "data": {
      "text/html": [
       "<div>\n",
       "<style scoped>\n",
       "    .dataframe tbody tr th:only-of-type {\n",
       "        vertical-align: middle;\n",
       "    }\n",
       "\n",
       "    .dataframe tbody tr th {\n",
       "        vertical-align: top;\n",
       "    }\n",
       "\n",
       "    .dataframe thead th {\n",
       "        text-align: right;\n",
       "    }\n",
       "</style>\n",
       "<table border=\"1\" class=\"dataframe\">\n",
       "  <thead>\n",
       "    <tr style=\"text-align: right;\">\n",
       "      <th></th>\n",
       "      <th>Imagen</th>\n",
       "      <th>Objeto</th>\n",
       "      <th>DATE</th>\n",
       "      <th>Filtro</th>\n",
       "      <th>L (mm)</th>\n",
       "      <th>V_media</th>\n",
       "      <th>S</th>\n",
       "      <th>E_acc</th>\n",
       "      <th>D (mm)</th>\n",
       "      <th>V_media_antigua</th>\n",
       "      <th>S_antigua</th>\n",
       "      <th>HOUR</th>\n",
       "    </tr>\n",
       "  </thead>\n",
       "  <tbody>\n",
       "    <tr>\n",
       "      <th>6.0</th>\n",
       "      <td>6</td>\n",
       "      <td>Rigel</td>\n",
       "      <td>17-03-15</td>\n",
       "      <td>Halfa-35 nm</td>\n",
       "      <td>147.0</td>\n",
       "      <td>0.439454</td>\n",
       "      <td>0.007861</td>\n",
       "      <td>0.045045</td>\n",
       "      <td>51.0</td>\n",
       "      <td>0.439454</td>\n",
       "      <td>0.007861</td>\n",
       "      <td>21:14:55</td>\n",
       "    </tr>\n",
       "    <tr>\n",
       "      <th>7.0</th>\n",
       "      <td>7</td>\n",
       "      <td>Rigel</td>\n",
       "      <td>17-03-15</td>\n",
       "      <td>Halfa-35 nm</td>\n",
       "      <td>222.0</td>\n",
       "      <td>0.144100</td>\n",
       "      <td>0.008017</td>\n",
       "      <td>0.045938</td>\n",
       "      <td>51.0</td>\n",
       "      <td>0.144100</td>\n",
       "      <td>0.008017</td>\n",
       "      <td>21:19:47</td>\n",
       "    </tr>\n",
       "  </tbody>\n",
       "</table>\n",
       "</div>"
      ],
      "text/plain": [
       "     Imagen Objeto      DATE       Filtro  L (mm)   V_media         S  \\\n",
       "6.0       6  Rigel  17-03-15  Halfa-35 nm   147.0  0.439454  0.007861   \n",
       "7.0       7  Rigel  17-03-15  Halfa-35 nm   222.0  0.144100  0.008017   \n",
       "\n",
       "        E_acc  D (mm)  V_media_antigua  S_antigua      HOUR  \n",
       "6.0  0.045045    51.0         0.439454   0.007861  21:14:55  \n",
       "7.0  0.045938    51.0         0.144100   0.008017  21:19:47  "
      ]
     },
     "execution_count": 72,
     "metadata": {},
     "output_type": "execute_result"
    }
   ],
   "source": [
    "cond1=(df['Objeto']=='Rigel') & (df['Filtro']=='Halfa-35 nm') \n",
    "df_sel2=df.loc[cond1]\n",
    "df_sel2[dispcols+['HOUR']]"
   ]
  },
  {
   "cell_type": "code",
   "execution_count": 73,
   "metadata": {},
   "outputs": [
    {
     "name": "stdout",
     "output_type": "stream",
     "text": [
      "Betelgeuse r0= 0.3629309047496448\n",
      "Rigel r0= 0.3330430770908755\n"
     ]
    },
    {
     "data": {
      "image/png": "[encoded data removed]",
      "text/plain": [
       "<Figure size 600x400 with 1 Axes>"
      ]
     },
     "metadata": {
      "needs_background": "light"
     },
     "output_type": "display_data"
    }
   ],
   "source": [
    "B_exp1=df_sel1['L (mm)']/1000\n",
    "V_exp1=df_sel1['V_media']\n",
    "lambda_1=df_sel1['filtername'].iloc[0]\n",
    "\n",
    "\n",
    "popt, pcov =curve_fit(get_V, B_exp1,V_exp1,p0=0.2,bounds=(0.01,1))\n",
    "print(\"Betelgeuse\",\"r0=\",*popt)\n",
    "V_fit1=get_V(B,popt[0])\n",
    "r01=popt[0]\n",
    "# Aqui sobra porque ya los guardamos en los ajustes individuales\n",
    "# for n in df_sel1['Imagen']:\n",
    "#     if n in r0dict:\n",
    "#         warnings.warn(\"Calculando r0 para una imagen dos veces\")\n",
    "#     r0dict[n]=r01\n",
    "\n",
    "B_exp2=df_sel2['L (mm)']/1000\n",
    "V_exp2=df_sel2['V_media']\n",
    "lambda_2=df_sel2['filtername'].iloc[0]\n",
    "\n",
    "popt, pcov =curve_fit(get_V, B_exp2,V_exp2,p0=0.2,bounds=(0.01,1))\n",
    "print(\"Rigel\",\"r0=\",*popt)\n",
    "V_fit2=get_V(B,popt[0])\n",
    "r02=popt[0]\n",
    "# Aqui sobra porque ya los guardamos en los ajustes individuales\n",
    "# for n in df_sel2['Imagen']:\n",
    "#     if n in r0dict:\n",
    "#         warnings.warn(\"Calculando r0 para una imagen dos veces\")\n",
    "#     r0dict[n]=r02\n",
    "\n",
    "fig, ax = plt.subplots()\n",
    "plt.ticklabel_format(useMathText=True)\n",
    "plt.xlim([0, 0.3])\n",
    "plt.ylim([0, 1])\n",
    "plt.plot(B, V_fit1,ls1,c='black',label=f\"Betelgeuse\")\n",
    "plt.plot(B, V_fit2,ls2,c='black',label=f\"Rigel\")\n",
    "\n",
    "plt.errorbar(B_exp1, V_exp1, yerr=df_sel1['E_acc'],label=f\"Betelgeuse\",**styledict_exp1)\n",
    "plt.errorbar(B_exp2, V_exp2, yerr=df_sel2['E_acc'],label=f\"Rigel\",**styledict_exp2)\n",
    "\n",
    "\n",
    "handles, labels = ax.get_legend_handles_labels()\n",
    "# remove the errorbars\n",
    "handles = [h[0] if isinstance(h, container.ErrorbarContainer) else h for h in handles]\n",
    "# use them in the legend\n",
    "ax.legend(handles, labels)\n",
    "#ax.legend(prop={'size': 8})\n",
    "\n",
    "# ax.set_title(f'{df_sel2[\"DATE\"].iloc[0]})')\n",
    "ax.text(0.47, 0.95, \"(a)\", transform=ax.transAxes, fontsize=14, verticalalignment='top')\n",
    "\n",
    "ax.set_xlabel(\"B (m)\")\n",
    "ax.set_ylabel(\"V\")\n",
    "plt.savefig(make_dir(\"productos/ajustes/ajuste-betel-vs-rigel.pdf\"))"
   ]
  },
  {
   "cell_type": "markdown",
   "metadata": {},
   "source": [
    "# Exportamos los resultados"
   ]
  },
  {
   "cell_type": "code",
   "execution_count": 74,
   "metadata": {},
   "outputs": [],
   "source": [
    "with open('intermedio/valoresr0.pkl', 'wb') as f:\n",
    "    pickle.dump(r0dict, f)"
   ]
  },
  {
   "cell_type": "code",
   "execution_count": 75,
   "metadata": {},
   "outputs": [],
   "source": [
    "valoresr0=pd.DataFrame(r0dict.values(),index=r0dict.keys(),columns=[\"r0\"])\n",
    "\n",
    "\n"
   ]
  },
  {
   "cell_type": "code",
   "execution_count": 76,
   "metadata": {},
   "outputs": [],
   "source": [
    "erroresr0=pd.DataFrame(r0errdict.values(),index=r0errdict.keys(),columns=[\"error\"])\n"
   ]
  },
  {
   "cell_type": "code",
   "execution_count": 77,
   "metadata": {},
   "outputs": [
    {
     "data": {
      "text/html": [
       "<div>\n",
       "<style scoped>\n",
       "    .dataframe tbody tr th:only-of-type {\n",
       "        vertical-align: middle;\n",
       "    }\n",
       "\n",
       "    .dataframe tbody tr th {\n",
       "        vertical-align: top;\n",
       "    }\n",
       "\n",
       "    .dataframe thead th {\n",
       "        text-align: right;\n",
       "    }\n",
       "</style>\n",
       "<table border=\"1\" class=\"dataframe\">\n",
       "  <thead>\n",
       "    <tr style=\"text-align: right;\">\n",
       "      <th></th>\n",
       "      <th>r0</th>\n",
       "      <th>error</th>\n",
       "    </tr>\n",
       "  </thead>\n",
       "  <tbody>\n",
       "    <tr>\n",
       "      <th>14</th>\n",
       "      <td>0.252210</td>\n",
       "      <td>0.015169</td>\n",
       "    </tr>\n",
       "    <tr>\n",
       "      <th>15</th>\n",
       "      <td>0.252210</td>\n",
       "      <td>0.015169</td>\n",
       "    </tr>\n",
       "    <tr>\n",
       "      <th>16</th>\n",
       "      <td>0.252210</td>\n",
       "      <td>0.015169</td>\n",
       "    </tr>\n",
       "    <tr>\n",
       "      <th>17</th>\n",
       "      <td>0.252210</td>\n",
       "      <td>0.015169</td>\n",
       "    </tr>\n",
       "    <tr>\n",
       "      <th>8</th>\n",
       "      <td>0.362931</td>\n",
       "      <td>0.101940</td>\n",
       "    </tr>\n",
       "    <tr>\n",
       "      <th>10</th>\n",
       "      <td>0.362931</td>\n",
       "      <td>0.101940</td>\n",
       "    </tr>\n",
       "    <tr>\n",
       "      <th>11</th>\n",
       "      <td>0.362931</td>\n",
       "      <td>0.101940</td>\n",
       "    </tr>\n",
       "    <tr>\n",
       "      <th>19</th>\n",
       "      <td>0.315159</td>\n",
       "      <td>0.015988</td>\n",
       "    </tr>\n",
       "    <tr>\n",
       "      <th>21</th>\n",
       "      <td>0.315159</td>\n",
       "      <td>0.015988</td>\n",
       "    </tr>\n",
       "    <tr>\n",
       "      <th>22</th>\n",
       "      <td>0.315159</td>\n",
       "      <td>0.015988</td>\n",
       "    </tr>\n",
       "    <tr>\n",
       "      <th>20</th>\n",
       "      <td>0.218160</td>\n",
       "      <td>0.035400</td>\n",
       "    </tr>\n",
       "    <tr>\n",
       "      <th>23</th>\n",
       "      <td>0.218160</td>\n",
       "      <td>0.035400</td>\n",
       "    </tr>\n",
       "    <tr>\n",
       "      <th>1</th>\n",
       "      <td>0.241073</td>\n",
       "      <td>0.051223</td>\n",
       "    </tr>\n",
       "    <tr>\n",
       "      <th>2</th>\n",
       "      <td>0.241073</td>\n",
       "      <td>0.051223</td>\n",
       "    </tr>\n",
       "    <tr>\n",
       "      <th>3</th>\n",
       "      <td>0.241073</td>\n",
       "      <td>0.051223</td>\n",
       "    </tr>\n",
       "    <tr>\n",
       "      <th>6</th>\n",
       "      <td>0.333043</td>\n",
       "      <td>0.016267</td>\n",
       "    </tr>\n",
       "    <tr>\n",
       "      <th>7</th>\n",
       "      <td>0.333043</td>\n",
       "      <td>0.016267</td>\n",
       "    </tr>\n",
       "  </tbody>\n",
       "</table>\n",
       "</div>"
      ],
      "text/plain": [
       "          r0     error\n",
       "14  0.252210  0.015169\n",
       "15  0.252210  0.015169\n",
       "16  0.252210  0.015169\n",
       "17  0.252210  0.015169\n",
       "8   0.362931  0.101940\n",
       "10  0.362931  0.101940\n",
       "11  0.362931  0.101940\n",
       "19  0.315159  0.015988\n",
       "21  0.315159  0.015988\n",
       "22  0.315159  0.015988\n",
       "20  0.218160  0.035400\n",
       "23  0.218160  0.035400\n",
       "1   0.241073  0.051223\n",
       "2   0.241073  0.051223\n",
       "3   0.241073  0.051223\n",
       "6   0.333043  0.016267\n",
       "7   0.333043  0.016267"
      ]
     },
     "execution_count": 77,
     "metadata": {},
     "output_type": "execute_result"
    }
   ],
   "source": [
    "r0df=valoresr0.join(erroresr0)\n",
    "with open('productos/valoresr0.json','wb') as f:\n",
    "    r0df.to_json(f,indent=4)\n",
    "r0df.to_excel(\"productos/r0errors.xlsx\",engine=\"openpyxl\")\n",
    "r0df"
   ]
  },
  {
   "cell_type": "markdown",
   "metadata": {},
   "source": [
    "En teoria la formula del error seria esta? No sabemos\n",
    "\n",
    "$E_V=2E_{Cut}V\\left(\\frac{1}{I_{Max}+I_{Min}}\\right)$"
   ]
  },
  {
   "cell_type": "code",
   "execution_count": 78,
   "metadata": {},
   "outputs": [],
   "source": [
    "df.to_excel(\"productos/tabla_completa.xlsx\",engine=\"openpyxl\")"
   ]
  },
  {
   "cell_type": "code",
   "execution_count": null,
   "metadata": {},
   "outputs": [],
   "source": []
  }
 ],
 "metadata": {
  "interpreter": {
   "hash": "70e0e9be64ad07483f9da567ffd7d42f53253c52f8983f63b3d8272e76f322df"
  },
  "kernelspec": {
   "display_name": "Python 3.9.12 ('jupy')",
   "language": "python",
   "name": "python3"
  },
  "language_info": {
   "codemirror_mode": {
    "name": "ipython",
    "version": 3
   },
   "file_extension": ".py",
   "mimetype": "text/x-python",
   "name": "python",
   "nbconvert_exporter": "python",
   "pygments_lexer": "ipython3",
   "version": "3.9.12"
  },
  "orig_nbformat": 4
 },
 "nbformat": 4,
 "nbformat_minor": 2
}
