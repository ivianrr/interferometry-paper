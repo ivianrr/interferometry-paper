{
 "cells": [
  {
   "cell_type": "markdown",
   "id": "711d1328",
   "metadata": {},
   "source": [
    "Extraemos 10 fotogramas de cada video para medirlos individualmente\n"
   ]
  },
  {
   "cell_type": "code",
   "execution_count": 45,
   "id": "0b0384cf",
   "metadata": {},
   "outputs": [],
   "source": [
    "import pandas as pd\n",
    "import numpy as np\n",
    "import glob\n",
    "import re\n",
    "import os\n",
    "import cv2 as cv\n",
    "import matplotlib.pyplot as plt"
   ]
  },
  {
   "cell_type": "markdown",
   "id": "c32c135f",
   "metadata": {},
   "source": [
    "Parameters:"
   ]
  },
  {
   "cell_type": "code",
   "execution_count": 46,
   "id": "8cd00c02",
   "metadata": {},
   "outputs": [],
   "source": [
    "frames_to_extract=10"
   ]
  },
  {
   "cell_type": "markdown",
   "id": "2417233e",
   "metadata": {},
   "source": [
    "__________________"
   ]
  },
  {
   "cell_type": "code",
   "execution_count": 47,
   "id": "a25675d7",
   "metadata": {
    "scrolled": true,
    "tags": []
   },
   "outputs": [
    {
     "data": {
      "text/html": [
       "<div>\n",
       "<style scoped>\n",
       "    .dataframe tbody tr th:only-of-type {\n",
       "        vertical-align: middle;\n",
       "    }\n",
       "\n",
       "    .dataframe tbody tr th {\n",
       "        vertical-align: top;\n",
       "    }\n",
       "\n",
       "    .dataframe thead th {\n",
       "        text-align: right;\n",
       "    }\n",
       "</style>\n",
       "<table border=\"1\" class=\"dataframe\">\n",
       "  <thead>\n",
       "    <tr style=\"text-align: right;\">\n",
       "      <th></th>\n",
       "      <th>PATH</th>\n",
       "      <th>Imagen</th>\n",
       "    </tr>\n",
       "  </thead>\n",
       "  <tbody>\n",
       "    <tr>\n",
       "      <th>1</th>\n",
       "      <td>datos/videos\\Arturo\\1-2022-07-02-004043-M104-B...</td>\n",
       "      <td>1</td>\n",
       "    </tr>\n",
       "    <tr>\n",
       "      <th>2</th>\n",
       "      <td>datos/videos\\Arturo\\2-2022-07-02-004341-M104-B...</td>\n",
       "      <td>2</td>\n",
       "    </tr>\n",
       "    <tr>\n",
       "      <th>3</th>\n",
       "      <td>datos/videos\\Arturo\\3-2022-07-02-004744-M104-B...</td>\n",
       "      <td>3</td>\n",
       "    </tr>\n",
       "    <tr>\n",
       "      <th>4</th>\n",
       "      <td>datos/videos\\Arturo\\4-2022-07-02-005921-M104-B...</td>\n",
       "      <td>4</td>\n",
       "    </tr>\n",
       "    <tr>\n",
       "      <th>5</th>\n",
       "      <td>datos/videos\\Arturo\\5-2022-07-02-010411-M104-B...</td>\n",
       "      <td>5</td>\n",
       "    </tr>\n",
       "    <tr>\n",
       "      <th>6</th>\n",
       "      <td>datos/videos\\Arturo\\6-2022-07-02-010800-M104-B...</td>\n",
       "      <td>6</td>\n",
       "    </tr>\n",
       "    <tr>\n",
       "      <th>7</th>\n",
       "      <td>datos/videos\\Arturo\\7-2022-07-02-011025-M104-B...</td>\n",
       "      <td>7</td>\n",
       "    </tr>\n",
       "    <tr>\n",
       "      <th>8</th>\n",
       "      <td>datos/videos\\Arturo\\8-2022-07-02-011616-M104-B...</td>\n",
       "      <td>8</td>\n",
       "    </tr>\n",
       "    <tr>\n",
       "      <th>9</th>\n",
       "      <td>datos/videos\\Arturo\\9-2022-07-02-011947-M104-B...</td>\n",
       "      <td>9</td>\n",
       "    </tr>\n",
       "  </tbody>\n",
       "</table>\n",
       "</div>"
      ],
      "text/plain": [
       "                                                PATH  Imagen\n",
       "1  datos/videos\\Arturo\\1-2022-07-02-004043-M104-B...       1\n",
       "2  datos/videos\\Arturo\\2-2022-07-02-004341-M104-B...       2\n",
       "3  datos/videos\\Arturo\\3-2022-07-02-004744-M104-B...       3\n",
       "4  datos/videos\\Arturo\\4-2022-07-02-005921-M104-B...       4\n",
       "5  datos/videos\\Arturo\\5-2022-07-02-010411-M104-B...       5\n",
       "6  datos/videos\\Arturo\\6-2022-07-02-010800-M104-B...       6\n",
       "7  datos/videos\\Arturo\\7-2022-07-02-011025-M104-B...       7\n",
       "8  datos/videos\\Arturo\\8-2022-07-02-011616-M104-B...       8\n",
       "9  datos/videos\\Arturo\\9-2022-07-02-011947-M104-B...       9"
      ]
     },
     "execution_count": 47,
     "metadata": {},
     "output_type": "execute_result"
    }
   ],
   "source": [
    "names=[]\n",
    "ims=[]\n",
    "for name in glob.glob('datos/videos/*/*.avi'):\n",
    "    names.append(name)\n",
    "    ims.append(int(re.search('\\d+', name.split('\\\\')[-1])[0]))\n",
    "\n",
    "paths=pd.DataFrame({'PATH':names,'Imagen':ims},index=ims)\n",
    "paths"
   ]
  },
  {
   "cell_type": "markdown",
   "id": "cc6c5160",
   "metadata": {},
   "source": [
    "Cargamos la tabla con las medidas originales que realizamos en el aula con imagej"
   ]
  },
  {
   "cell_type": "code",
   "execution_count": 49,
   "id": "2102860d",
   "metadata": {},
   "outputs": [
    {
     "name": "stdout",
     "output_type": "stream",
     "text": [
      "1-2022-07-02-004043-M104-Bin2 H -14 10\n",
      "2-2022-07-02-004341-M104-Bin2 H -15 10\n",
      "3-2022-07-02-004744-M104-Bin2 H -14 10\n",
      "4-2022-07-02-005921-M104-Bin2 H -14 10\n",
      "5-2022-07-02-010411-M104-Bin2 H -14 10\n",
      "6-2022-07-02-010800-M104-Bin2 H -14 10\n",
      "7-2022-07-02-011025-M104-Bin2 H -14 10\n",
      "8-2022-07-02-011616-M104-Bin2 H -14 10\n",
      "9-2022-07-02-011947-M104-Bin2 H -14 10\n"
     ]
    }
   ],
   "source": [
    "for i, data in paths.iterrows():\n",
    "    video_id=data['Imagen']\n",
    "    video_path=data['PATH']\n",
    "    # print(video_id)\n",
    "    # print(video_path,\"\\n\")\n",
    "\n",
    "    # Check if dir for video output exists\n",
    "    save_dir=\"datos/imagenes/Arturo/video-\"+str(video_id)+\"/\"\n",
    "    if not os.path.isdir(save_dir):\n",
    "        os.makedirs(save_dir)\n",
    "\n",
    "    # Start extracting frames\n",
    "    video_name=video_path.split(\"\\\\\")[-1].split(\".\")[0]\n",
    "    cap = cv.VideoCapture(video_path)\n",
    "\n",
    "    video_length = int(cap.get(cv.CAP_PROP_FRAME_COUNT))\n",
    "    fps = cap.get(cv.CAP_PROP_FPS)\n",
    "\n",
    "    interval=video_length//(frames_to_extract)\n",
    "    # print(video_length,interval)\n",
    "    success=True\n",
    "    extracted=0\n",
    "    frame_n=0\n",
    "    while success and frame_n<video_length and extracted<frames_to_extract:\n",
    "        success, image = cap.read()\n",
    "        if frame_n%interval==0:\n",
    "            cv.imwrite(f\"{save_dir}FRAME-{frame_n:04}_{video_name}.png\", image)\n",
    "            # print(image.shape)\n",
    "            # plt.imshow(image)\n",
    "            # plt.show()\n",
    "            extracted+=1\n",
    "        frame_n+=1\n",
    "    cap.release()\n",
    "    print(video_name, extracted)\n",
    "    # break\n",
    "\n",
    "\n"
   ]
  },
  {
   "cell_type": "code",
   "execution_count": null,
   "id": "3c915e92",
   "metadata": {},
   "outputs": [],
   "source": []
  }
 ],
 "metadata": {
  "interpreter": {
   "hash": "7288f5eed9f0569b2edb372878a9e89d03676e3e8c663c8588401b9f637de2da"
  },
  "kernelspec": {
   "display_name": "Python 3.10.4 ('interf2')",
   "language": "python",
   "name": "python3"
  },
  "language_info": {
   "codemirror_mode": {
    "name": "ipython",
    "version": 3
   },
   "file_extension": ".py",
   "mimetype": "text/x-python",
   "name": "python",
   "nbconvert_exporter": "python",
   "pygments_lexer": "ipython3",
   "version": "3.10.4"
  }
 },
 "nbformat": 4,
 "nbformat_minor": 5
}
