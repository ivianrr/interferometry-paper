{
 "cells": [
  {
   "cell_type": "code",
   "execution_count": 38,
   "metadata": {},
   "outputs": [],
   "source": [
    "import pandas as pd\n",
    "import numpy as np\n",
    "import matplotlib.pyplot as plt\n",
    "import os\n",
    "from scipy.optimize import curve_fit\n",
    "import warnings\n",
    "import pickle\n",
    "from matplotlib import container\n",
    "\n",
    "# from functools import partial\n",
    "\n",
    "plt.rcParams['figure.figsize'] = (6, 4)  # 8*4\n",
    "plt.rcParams['figure.dpi'] = 100\n",
    "\n",
    "output_format=\".eps\""
   ]
  },
  {
   "cell_type": "code",
   "execution_count": 39,
   "metadata": {},
   "outputs": [],
   "source": [
    "def make_dir(file_or_dir):\n",
    "    \"\"\"Given a dir or file path, creates the dir if needed and returns de original string\"\"\"\n",
    "    results_dir=os.path.dirname(file_or_dir)\n",
    "    if not os.path.isdir(results_dir):\n",
    "        os.makedirs(results_dir)\n",
    "    return file_or_dir"
   ]
  },
  {
   "cell_type": "code",
   "execution_count": 40,
   "metadata": {},
   "outputs": [],
   "source": [
    "styledict_exp1=dict(marker='x',color='black',linestyle='None',\n",
    "ecolor=(0, 0, 0, 0.4),elinewidth=1,capsize=2.5,)\n",
    "\n",
    "\n",
    "styledict_exp2=styledict_exp1.copy()\n",
    "styledict_exp2.update(dict(marker='^',ecolor=(0, 0, 0, 0.4),ms=4))\n",
    "\n",
    "ls1='--'\n",
    "ls2='-.'"
   ]
  },
  {
   "cell_type": "code",
   "execution_count": 41,
   "metadata": {},
   "outputs": [],
   "source": [
    "r0dict={}\n",
    "r0errdict={}"
   ]
  },
  {
   "cell_type": "code",
   "execution_count": 42,
   "metadata": {},
   "outputs": [],
   "source": [
    "def get_V(B,r0):\n",
    "    return np.exp(-3.44*(B/r0)**(5/3))"
   ]
  },
  {
   "cell_type": "code",
   "execution_count": 43,
   "metadata": {},
   "outputs": [],
   "source": [
    "def get_err(pcov):\n",
    "    \"\"\"Metodo correcto de calcular el error segun la documentación.\"\"\"\n",
    "    return np.sqrt(np.diag(pcov))[0]"
   ]
  },
  {
   "cell_type": "code",
   "execution_count": 44,
   "metadata": {},
   "outputs": [],
   "source": [
    "B=np.linspace(0,0.32,1000)\n"
   ]
  },
  {
   "cell_type": "code",
   "execution_count": 45,
   "metadata": {},
   "outputs": [
    {
     "name": "stdout",
     "output_type": "stream",
     "text": [
      "Index(['Objeto', 'Filtro', 'Disco', 'D (mm)', 'L (mm)', 'L1 (mm)', 'L2 (mm)',\n",
      "       'Notas', 'PATH', 'Imagen', '$\\lambda$', '$d\\lambda$', 'alphap',\n",
      "       'alphap_mas', 'filtername', 'starname', 'DATE', 'DAY', 'HOUR',\n",
      "       'csv_path', 'V_media', 'S', 'S_tip', 'E_acc'],\n",
      "      dtype='object')\n"
     ]
    }
   ],
   "source": [
    "df=pd.read_hdf('intermedio/tabla_arturo.h5', 'df')\n",
    "print(df.keys())\n",
    "dispcols=['Imagen','Objeto','DATE','Filtro','L (mm)','V_media','S','E_acc','D (mm)']"
   ]
  },
  {
   "cell_type": "markdown",
   "metadata": {},
   "source": [
    "# Arturo"
   ]
  },
  {
   "cell_type": "code",
   "execution_count": 46,
   "metadata": {},
   "outputs": [
    {
     "data": {
      "text/html": [
       "<div>\n",
       "<style scoped>\n",
       "    .dataframe tbody tr th:only-of-type {\n",
       "        vertical-align: middle;\n",
       "    }\n",
       "\n",
       "    .dataframe tbody tr th {\n",
       "        vertical-align: top;\n",
       "    }\n",
       "\n",
       "    .dataframe thead th {\n",
       "        text-align: right;\n",
       "    }\n",
       "</style>\n",
       "<table border=\"1\" class=\"dataframe\">\n",
       "  <thead>\n",
       "    <tr style=\"text-align: right;\">\n",
       "      <th></th>\n",
       "      <th>Imagen</th>\n",
       "      <th>Objeto</th>\n",
       "      <th>DATE</th>\n",
       "      <th>Filtro</th>\n",
       "      <th>L (mm)</th>\n",
       "      <th>V_media</th>\n",
       "      <th>S</th>\n",
       "      <th>E_acc</th>\n",
       "      <th>D (mm)</th>\n",
       "    </tr>\n",
       "    <tr>\n",
       "      <th>Imagen</th>\n",
       "      <th></th>\n",
       "      <th></th>\n",
       "      <th></th>\n",
       "      <th></th>\n",
       "      <th></th>\n",
       "      <th></th>\n",
       "      <th></th>\n",
       "      <th></th>\n",
       "      <th></th>\n",
       "    </tr>\n",
       "  </thead>\n",
       "  <tbody>\n",
       "    <tr>\n",
       "      <th>1</th>\n",
       "      <td>1</td>\n",
       "      <td>Arturo</td>\n",
       "      <td>22-07-02</td>\n",
       "      <td>Halfa-7 nm</td>\n",
       "      <td>310.0</td>\n",
       "      <td>0.057449</td>\n",
       "      <td>0.029049</td>\n",
       "      <td>0.020781</td>\n",
       "      <td>30</td>\n",
       "    </tr>\n",
       "    <tr>\n",
       "      <th>2</th>\n",
       "      <td>2</td>\n",
       "      <td>Arturo</td>\n",
       "      <td>22-07-02</td>\n",
       "      <td>Halfa-7 nm</td>\n",
       "      <td>230.0</td>\n",
       "      <td>0.098542</td>\n",
       "      <td>0.025492</td>\n",
       "      <td>0.018236</td>\n",
       "      <td>30</td>\n",
       "    </tr>\n",
       "    <tr>\n",
       "      <th>3</th>\n",
       "      <td>3</td>\n",
       "      <td>Arturo</td>\n",
       "      <td>22-07-02</td>\n",
       "      <td>Halfa-7 nm</td>\n",
       "      <td>150.0</td>\n",
       "      <td>0.093816</td>\n",
       "      <td>0.031957</td>\n",
       "      <td>0.022861</td>\n",
       "      <td>30</td>\n",
       "    </tr>\n",
       "    <tr>\n",
       "      <th>4</th>\n",
       "      <td>4</td>\n",
       "      <td>Arturo</td>\n",
       "      <td>22-07-02</td>\n",
       "      <td>Halfa-7 nm</td>\n",
       "      <td>270.0</td>\n",
       "      <td>0.070075</td>\n",
       "      <td>0.032532</td>\n",
       "      <td>0.023272</td>\n",
       "      <td>30</td>\n",
       "    </tr>\n",
       "    <tr>\n",
       "      <th>5</th>\n",
       "      <td>5</td>\n",
       "      <td>Arturo</td>\n",
       "      <td>22-07-02</td>\n",
       "      <td>Halfa-7 nm</td>\n",
       "      <td>190.0</td>\n",
       "      <td>0.118105</td>\n",
       "      <td>0.036563</td>\n",
       "      <td>0.026156</td>\n",
       "      <td>30</td>\n",
       "    </tr>\n",
       "    <tr>\n",
       "      <th>6</th>\n",
       "      <td>6</td>\n",
       "      <td>Arturo</td>\n",
       "      <td>22-07-02</td>\n",
       "      <td>Halfa-7 nm</td>\n",
       "      <td>60.0</td>\n",
       "      <td>0.344167</td>\n",
       "      <td>0.065485</td>\n",
       "      <td>0.046846</td>\n",
       "      <td>30</td>\n",
       "    </tr>\n",
       "    <tr>\n",
       "      <th>7</th>\n",
       "      <td>7</td>\n",
       "      <td>Arturo</td>\n",
       "      <td>22-07-02</td>\n",
       "      <td>Halfa-7 nm</td>\n",
       "      <td>40.0</td>\n",
       "      <td>0.673463</td>\n",
       "      <td>0.064162</td>\n",
       "      <td>0.045899</td>\n",
       "      <td>30</td>\n",
       "    </tr>\n",
       "    <tr>\n",
       "      <th>8</th>\n",
       "      <td>8</td>\n",
       "      <td>Arturo</td>\n",
       "      <td>22-07-02</td>\n",
       "      <td>Halfa-7 nm</td>\n",
       "      <td>190.0</td>\n",
       "      <td>0.089529</td>\n",
       "      <td>0.047105</td>\n",
       "      <td>0.033697</td>\n",
       "      <td>30</td>\n",
       "    </tr>\n",
       "  </tbody>\n",
       "</table>\n",
       "</div>"
      ],
      "text/plain": [
       "        Imagen  Objeto      DATE      Filtro  L (mm)   V_media         S  \\\n",
       "Imagen                                                                     \n",
       "1            1  Arturo  22-07-02  Halfa-7 nm   310.0  0.057449  0.029049   \n",
       "2            2  Arturo  22-07-02  Halfa-7 nm   230.0  0.098542  0.025492   \n",
       "3            3  Arturo  22-07-02  Halfa-7 nm   150.0  0.093816  0.031957   \n",
       "4            4  Arturo  22-07-02  Halfa-7 nm   270.0  0.070075  0.032532   \n",
       "5            5  Arturo  22-07-02  Halfa-7 nm   190.0  0.118105  0.036563   \n",
       "6            6  Arturo  22-07-02  Halfa-7 nm    60.0  0.344167  0.065485   \n",
       "7            7  Arturo  22-07-02  Halfa-7 nm    40.0  0.673463  0.064162   \n",
       "8            8  Arturo  22-07-02  Halfa-7 nm   190.0  0.089529  0.047105   \n",
       "\n",
       "           E_acc  D (mm)  \n",
       "Imagen                    \n",
       "1       0.020781      30  \n",
       "2       0.018236      30  \n",
       "3       0.022861      30  \n",
       "4       0.023272      30  \n",
       "5       0.026156      30  \n",
       "6       0.046846      30  \n",
       "7       0.045899      30  \n",
       "8       0.033697      30  "
      ]
     },
     "execution_count": 46,
     "metadata": {},
     "output_type": "execute_result"
    }
   ],
   "source": [
    "cond=(df['V_media']>0) \n",
    "df_sel=df.loc[cond]\n",
    "df_sel[dispcols]"
   ]
  },
  {
   "cell_type": "code",
   "execution_count": 47,
   "metadata": {},
   "outputs": [
    {
     "name": "stdout",
     "output_type": "stream",
     "text": [
      "r0= 0.1329102804149056\n"
     ]
    },
    {
     "name": "stderr",
     "output_type": "stream",
     "text": [
      "The PostScript backend does not support transparency; partially transparent artists will be rendered opaque.\n"
     ]
    },
    {
     "data": {
      "image/png": "[encoded data removed]",
      "text/plain": [
       "<Figure size 600x400 with 1 Axes>"
      ]
     },
     "metadata": {
      "needs_background": "light"
     },
     "output_type": "display_data"
    }
   ],
   "source": [
    "B_exp=df_sel['L (mm)']/1000\n",
    "V_exp=df_sel['V_media']\n",
    "\n",
    "popt, pcov =curve_fit(get_V, B_exp,V_exp,p0=0.2,bounds=(0.01,1))\n",
    "print(\"r0=\",*popt)\n",
    "V_fit=get_V(B,popt[0])\n",
    "for n in df_sel['Imagen']:\n",
    "    if n in r0dict:\n",
    "        warnings.warn(\"Calculando r0 para una imagen dos veces\")\n",
    "    r0dict[n]=popt[0]\n",
    "    r0errdict[n]=get_err(pcov)\n",
    "    \n",
    "fig, ax = plt.subplots()\n",
    "plt.ticklabel_format(useMathText=True)\n",
    "plt.xlim([0, 0.3])\n",
    "plt.ylim([0, 1])\n",
    "\n",
    "plt.plot(B, V_fit,ls1,c='black',label=f\"Best fit curve with $r_0$ = {popt[0]:0.3F} m\")\n",
    "plt.errorbar(B_exp, V_exp, yerr=df_sel['E_acc'],label=\"Experimental points\",**styledict_exp1)\n",
    "\n",
    "# ax.legend()\n",
    "date=df_sel['DATE'].iloc[0]\n",
    "# ax.set_title(f'Sirius ({date})')\n",
    "ax.set_xlabel(\"B (m)\")\n",
    "ax.set_ylabel(\"V\")\n",
    "plt.savefig(make_dir(\"productos/ajustes/ajuste-arturo\"+output_format))"
   ]
  },
  {
   "cell_type": "code",
   "execution_count": null,
   "metadata": {},
   "outputs": [],
   "source": []
  },
  {
   "cell_type": "code",
   "execution_count": 48,
   "metadata": {},
   "outputs": [],
   "source": [
    "with open('intermedio/valoresr0.pkl', 'wb') as f:\n",
    "    pickle.dump(r0dict, f)"
   ]
  },
  {
   "cell_type": "code",
   "execution_count": 49,
   "metadata": {},
   "outputs": [],
   "source": [
    "valoresr0=pd.DataFrame(r0dict.values(),index=r0dict.keys(),columns=[\"r0\"])\n",
    "\n",
    "\n"
   ]
  },
  {
   "cell_type": "code",
   "execution_count": 50,
   "metadata": {},
   "outputs": [],
   "source": [
    "erroresr0=pd.DataFrame(r0errdict.values(),index=r0errdict.keys(),columns=[\"error\"])\n"
   ]
  },
  {
   "cell_type": "code",
   "execution_count": 51,
   "metadata": {},
   "outputs": [
    {
     "data": {
      "text/html": [
       "<div>\n",
       "<style scoped>\n",
       "    .dataframe tbody tr th:only-of-type {\n",
       "        vertical-align: middle;\n",
       "    }\n",
       "\n",
       "    .dataframe tbody tr th {\n",
       "        vertical-align: top;\n",
       "    }\n",
       "\n",
       "    .dataframe thead th {\n",
       "        text-align: right;\n",
       "    }\n",
       "</style>\n",
       "<table border=\"1\" class=\"dataframe\">\n",
       "  <thead>\n",
       "    <tr style=\"text-align: right;\">\n",
       "      <th></th>\n",
       "      <th>r0</th>\n",
       "      <th>error</th>\n",
       "    </tr>\n",
       "  </thead>\n",
       "  <tbody>\n",
       "    <tr>\n",
       "      <th>1</th>\n",
       "      <td>0.13291</td>\n",
       "      <td>0.014326</td>\n",
       "    </tr>\n",
       "    <tr>\n",
       "      <th>2</th>\n",
       "      <td>0.13291</td>\n",
       "      <td>0.014326</td>\n",
       "    </tr>\n",
       "    <tr>\n",
       "      <th>3</th>\n",
       "      <td>0.13291</td>\n",
       "      <td>0.014326</td>\n",
       "    </tr>\n",
       "    <tr>\n",
       "      <th>4</th>\n",
       "      <td>0.13291</td>\n",
       "      <td>0.014326</td>\n",
       "    </tr>\n",
       "    <tr>\n",
       "      <th>5</th>\n",
       "      <td>0.13291</td>\n",
       "      <td>0.014326</td>\n",
       "    </tr>\n",
       "    <tr>\n",
       "      <th>6</th>\n",
       "      <td>0.13291</td>\n",
       "      <td>0.014326</td>\n",
       "    </tr>\n",
       "    <tr>\n",
       "      <th>7</th>\n",
       "      <td>0.13291</td>\n",
       "      <td>0.014326</td>\n",
       "    </tr>\n",
       "    <tr>\n",
       "      <th>8</th>\n",
       "      <td>0.13291</td>\n",
       "      <td>0.014326</td>\n",
       "    </tr>\n",
       "  </tbody>\n",
       "</table>\n",
       "</div>"
      ],
      "text/plain": [
       "        r0     error\n",
       "1  0.13291  0.014326\n",
       "2  0.13291  0.014326\n",
       "3  0.13291  0.014326\n",
       "4  0.13291  0.014326\n",
       "5  0.13291  0.014326\n",
       "6  0.13291  0.014326\n",
       "7  0.13291  0.014326\n",
       "8  0.13291  0.014326"
      ]
     },
     "execution_count": 51,
     "metadata": {},
     "output_type": "execute_result"
    }
   ],
   "source": [
    "r0df=valoresr0.join(erroresr0)\n",
    "with open('productos/valoresr0.json','wb') as f:\n",
    "    r0df.to_json(f,indent=4)\n",
    "r0df.to_excel(\"productos/r0errors.xlsx\",engine=\"openpyxl\")\n",
    "r0df"
   ]
  }
 ],
 "metadata": {
  "kernelspec": {
   "display_name": "Python 3.10.4 ('interf2')",
   "language": "python",
   "name": "python3"
  },
  "language_info": {
   "codemirror_mode": {
    "name": "ipython",
    "version": 3
   },
   "file_extension": ".py",
   "mimetype": "text/x-python",
   "name": "python",
   "nbconvert_exporter": "python",
   "pygments_lexer": "ipython3",
   "version": "3.10.4"
  },
  "orig_nbformat": 4,
  "vscode": {
   "interpreter": {
    "hash": "7288f5eed9f0569b2edb372878a9e89d03676e3e8c663c8588401b9f637de2da"
   }
  }
 },
 "nbformat": 4,
 "nbformat_minor": 2
}
